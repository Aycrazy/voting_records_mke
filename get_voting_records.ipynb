{
 "cells": [
  {
   "cell_type": "code",
   "execution_count": 1,
   "metadata": {},
   "outputs": [],
   "source": [
    "from selenium import webdriver\n",
    "from selenium.webdriver.firefox.firefox_binary import FirefoxBinary\n",
    "from selenium.webdriver.common.action_chains import ActionChains\n",
    "import csv\n",
    "import scrapy\n",
    "import time\n",
    "import re\n",
    "import pandas as pd"
   ]
  },
  {
   "cell_type": "code",
   "execution_count": 2,
   "metadata": {},
   "outputs": [],
   "source": [
    "#you will need to put your own path to the firefox binary here\n",
    "#binary = FirefoxBinary()\n",
    "legistar = 'https://milwaukee.legistar.com/Legislation.aspx'\n",
    "\n",
    "def visit_site(legistar):\n",
    "    mkeDriver = webdriver.Firefox(executable_path='/Users/ayaspan/Documents/Personal/voting_records_mke/geckodriver')\n",
    "    mkeDriver.get(legistar)\n",
    "    return mkeDriver\n"
   ]
  },
  {
   "cell_type": "code",
   "execution_count": 375,
   "metadata": {},
   "outputs": [],
   "source": [
    "mkeDriver2 = visit_site(legistar)"
   ]
  },
  {
   "cell_type": "code",
   "execution_count": 385,
   "metadata": {},
   "outputs": [
    {
     "name": "stdout",
     "output_type": "stream",
     "text": [
      "[]\n"
     ]
    }
   ],
   "source": [
    "test = get_next_page(mkeDriver2)"
   ]
  },
  {
   "cell_type": "code",
   "execution_count": null,
   "metadata": {},
   "outputs": [],
   "source": []
  },
  {
   "cell_type": "code",
   "execution_count": 3,
   "metadata": {},
   "outputs": [],
   "source": [
    "def select_all_years(mkeDriver):\n",
    "    years = mkeDriver.find_element_by_id(\"ctl00_ContentPlaceHolder1_lstYears_Input\")\n",
    "    years.send_keys('All Years')\n",
    "    years.submit()\n",
    "    #return years"
   ]
  },
  {
   "cell_type": "code",
   "execution_count": 4,
   "metadata": {},
   "outputs": [],
   "source": [
    "#makes it so that you have max results\n",
    "\n",
    "def get_max_results(mkeDriver):\n",
    "    step1 = mkeDriver.find_elements_by_id(\"ctl00_ContentPlaceHolder1_menuMain\")[0]\n",
    "    action = ActionChains(mkeDriver)\n",
    "    action.click(step1.find_elements_by_class_name(\"rmItem \")[1])\n",
    "    #action.click(step1.find_elements_by_class_name(\"rmItem \")[1].find_element_by_css_selector(\"a\"))\n",
    "    action.perform()\n",
    "    time.sleep(1)\n",
    "    step2 = step1.find_elements_by_class_name(\"rmItem \")[1].parent\n",
    "    #print(step2.text)\n",
    "    action = ActionChains(mkeDriver)\n",
    "    # action_test2 = ActionChains(testDriver)\n",
    "    action.move_to_element(step2.find_element_by_class_name(\"rmSlide\").find_element_by_class_name(\"rmLast\"))\n",
    "    action.click(step2.find_element_by_class_name(\"rmSlide\").find_element_by_class_name(\"rmLast\"))\n",
    "    action.perform()\n",
    "    #return mkeDriver"
   ]
  },
  {
   "cell_type": "code",
   "execution_count": 5,
   "metadata": {},
   "outputs": [],
   "source": [
    "# re.search(r'(?<=of\\s)[0-9]+',mkeDriver.find_elements_by_class_name(\"rgPagerCell\")[0]\\\n",
    "#             .find_element_by_class_name(\"rgInfoPart\").text)[0]"
   ]
  },
  {
   "cell_type": "code",
   "execution_count": 6,
   "metadata": {},
   "outputs": [],
   "source": [
    "#need to consider the recursion involved in looping through pages OR use above"
   ]
  },
  {
   "cell_type": "code",
   "execution_count": 7,
   "metadata": {},
   "outputs": [],
   "source": [
    "#locats page link \n",
    "def get_next_page(mkeDriver):\n",
    "    pgs_drop = mkeDriver.find_elements_by_class_name(\"rgPagerCell\")\n",
    "    #print(pgs_drop)\n",
    "    try:\n",
    "        return pgs_drop[0].find_element_by_xpath(\"//a[@class='rgCurrentPage']/following-sibling::a\")\n",
    "    except:\n",
    "        return None\n",
    "\n",
    "def go_to_next_page(next_page):\n",
    "    next_page.click()"
   ]
  },
  {
   "cell_type": "code",
   "execution_count": 19,
   "metadata": {},
   "outputs": [],
   "source": [
    "def select_ordinance(mkeDriver):\n",
    "    type_ordinance = mkeDriver.find_element_by_id(\"ctl00_ContentPlaceHolder1_lstTypeBasic_Arrow\").click()\n",
    "    legislation_type = mkeDriver.find_element_by_id(\"ctl00_ContentPlaceHolder1_lstTypeBasic_DropDown\")\\\n",
    "                .find_elements_by_class_name(\"rcbItem\")\n",
    "    print(legislation_type[15].text)\n",
    "    actions = ActionChains(mkeDriver)\n",
    "    actions.move_to_element(legislation_type[15])\n",
    "    actions.click(legislation_type[15])\n",
    "    actions.perform()\n",
    "    #choose_ordinance.perform()#.double_click()\n",
    "#type_legislation.s\n",
    "#type_legislation.submit()"
   ]
  },
  {
   "cell_type": "code",
   "execution_count": 9,
   "metadata": {},
   "outputs": [],
   "source": [
    "# legislation_type = mkeDriver.find_element_by_id(\"ctl00_ContentPlaceHolder1_lstTypeBasic_DropDown\")\\\n",
    "#                 .find_elements_by_class_name(\"rcbItem\")\n",
    "# hover_ord = ActionChains(mkeDriver).move_to_element(legislation_type[14])\n",
    "# hover_ord.perform().send_keys(\"Ordinance\").double_click()"
   ]
  },
  {
   "cell_type": "code",
   "execution_count": 10,
   "metadata": {},
   "outputs": [],
   "source": [
    "def start_search(mkeDriver):\n",
    "    s_button = mkeDriver.find_element_by_id(\"visibleSearchButton\")\n",
    "    s_button.click()\n",
    "    #return mkeDriver"
   ]
  },
  {
   "cell_type": "code",
   "execution_count": 64,
   "metadata": {},
   "outputs": [],
   "source": [
    "def get_records_table(mkeDriver):\n",
    "    records_table = mkeDriver.find_element_by_id(\"ctl00_ContentPlaceHolder1_gridMain\")\n",
    "    r_table_body = records_table.find_elements_by_class_name(\"rgRow\")\n",
    "    r_table_body2 = records_table.find_elements_by_class_name(\"rgAltRow\")\n",
    "    return r_table_body, r_table_body2"
   ]
  },
  {
   "cell_type": "code",
   "execution_count": 12,
   "metadata": {},
   "outputs": [],
   "source": [
    "# for i in records_table.find_elements_by_css_selector('a'):\n",
    "#     if 'https' in i.get_attribute('href'):\n",
    "#         print(i.get_attribute('href'))"
   ]
  },
  {
   "cell_type": "code",
   "execution_count": 13,
   "metadata": {},
   "outputs": [],
   "source": [
    "#r_table_body = records_table.find_element_by_css_selector(\"tbody\")"
   ]
  },
  {
   "cell_type": "code",
   "execution_count": 14,
   "metadata": {},
   "outputs": [],
   "source": [
    "#can change # of records per page :)"
   ]
  },
  {
   "cell_type": "code",
   "execution_count": 63,
   "metadata": {},
   "outputs": [],
   "source": [
    "#if status passed\n",
    "import time\n",
    "\n",
    "def get_meta_data(legistar):\n",
    "    count=0\n",
    "    leg_dict = {}\n",
    "    col_names = [0,'type','status','created_date','final_action','title']\n",
    "    \n",
    "    #CALL OTHER REQUISITE FUNCTIONS FIRST\n",
    "    mkeDriver = visit_site(legistar)\n",
    "    #time.sleep(5)\n",
    "    select_all_years(mkeDriver)\n",
    "    time.sleep(2)\n",
    "    select_ordinance(mkeDriver)\n",
    "    start_search(mkeDriver)\n",
    "    time.sleep(2)\n",
    "    get_max_results(mkeDriver)\n",
    "    \n",
    "    while True:\n",
    "        time.sleep(4)\n",
    "        r_table_body, r_table_body2 = get_records_table(mkeDriver)\n",
    "        if count in leg_dict:\n",
    "            print('dup')\n",
    "            continue\n",
    "        else:\n",
    "            leg_dict[count]= {i.find_element_by_css_selector('td').find_element_by_css_selector('a').text:{\n",
    "                          'link': i.find_element_by_css_selector('a').get_attribute('href'),\n",
    "                           'other_info':[j.text for j in i.find_elements_by_css_selector('td')]} for i in r_table_body}\n",
    "            count+=1\n",
    "            leg_dict[count] = {i.find_element_by_css_selector('td').find_element_by_css_selector('a').text:{\n",
    "                          'link': i.find_element_by_css_selector('a').get_attribute('href'),\n",
    "                           'other_info':[j.text for j in i.find_elements_by_css_selector('td')]} for i in r_table_body2}\n",
    "        #works\n",
    "        #leg_dict[count] = [i.text for i in r_table_body]\n",
    "        \n",
    "        #print(r_table_body.text)\n",
    "        #print(r_table_body.find_elements_by_class_name('rgRow')[0].text)\n",
    "#         for row in r_table_body.find_elements_by_class_name('rgRow'):\n",
    "#             print(row.get_attribute('id'),'id')\n",
    "#             file_num = row.find_element_by_css_selector('td').find_element_by_css_selector('a').text\n",
    "#             leg_dict[file_num] = {}\n",
    "#             link = row.find_element_by_id('ctl00_ContentPlaceHolder1_gridMain_ctl00_ctl04_hypFile').get_attribute('href')\n",
    "#             leg_dict[file_num]['file_link'] = link\n",
    "#             print(file_num,'file_num and ', link,' link')\n",
    "\n",
    "#             for d,col in zip(row.find_elements_by_css_selector('td'),col_names):\n",
    "#                 if not col:\n",
    "#                     continue\n",
    "#                 #if leg_dict[file_num]['status'] in ('Passed',\"Mayor's Office\",'Dead','Placed On File'): use this later for going through links\n",
    "#                 leg_dict[file_num][col] = d.text\n",
    "# #                 leg_dict[file_num]['status'] = d.text\n",
    "# #                 leg_dict[file_num]['created_date'] = d.text\n",
    "# #                 leg_dict[file_num]['final_action'] = d.text\n",
    "#                 leg_dict[file_num]['title'] = d.text\n",
    "        time.sleep(.5)\n",
    "        \n",
    "        \n",
    "        next_page = get_next_page(mkeDriver)\n",
    "        \n",
    "        if not next_page:\n",
    "            return leg_dict\n",
    "        else:\n",
    "            next_page.click()\n",
    "        \n",
    "        \n",
    "        count+=1\n",
    "    "
   ]
  },
  {
   "cell_type": "code",
   "execution_count": 60,
   "metadata": {},
   "outputs": [],
   "source": [
    "#leg_dict"
   ]
  },
  {
   "cell_type": "code",
   "execution_count": 65,
   "metadata": {},
   "outputs": [
    {
     "name": "stdout",
     "output_type": "stream",
     "text": [
      "Ordinance\n"
     ]
    }
   ],
   "source": [
    "meta_legis_dict = get_meta_data(legistar)"
   ]
  },
  {
   "cell_type": "code",
   "execution_count": 67,
   "metadata": {},
   "outputs": [
    {
     "data": {
      "text/plain": [
       "50"
      ]
     },
     "execution_count": 67,
     "metadata": {},
     "output_type": "execute_result"
    }
   ],
   "source": [
    "len(meta_legis_dict[1])"
   ]
  },
  {
   "cell_type": "code",
   "execution_count": 49,
   "metadata": {},
   "outputs": [
    {
     "data": {
      "text/plain": [
       "50"
      ]
     },
     "execution_count": 49,
     "metadata": {},
     "output_type": "execute_result"
    }
   ],
   "source": [
    "len(meta_legis_dict2[0])"
   ]
  },
  {
   "cell_type": "code",
   "execution_count": 68,
   "metadata": {},
   "outputs": [],
   "source": [
    "df = pd.DataFrame()\n",
    "\n",
    "for key,val in meta_legis_dict.items():\n",
    "    df = df.append(pd.DataFrame.from_dict(val).T)\n"
   ]
  },
  {
   "cell_type": "code",
   "execution_count": 69,
   "metadata": {},
   "outputs": [
    {
     "data": {
      "text/plain": [
       "(4716, 2)"
      ]
     },
     "execution_count": 69,
     "metadata": {},
     "output_type": "execute_result"
    }
   ],
   "source": [
    "df.shape"
   ]
  },
  {
   "cell_type": "code",
   "execution_count": 71,
   "metadata": {},
   "outputs": [],
   "source": [
    "df.to_pickle('legistar_meta_info.pkl')"
   ]
  },
  {
   "cell_type": "code",
   "execution_count": 57,
   "metadata": {},
   "outputs": [
    {
     "data": {
      "text/plain": [
       "181642    [181642, Ordinance, In Committee, 2/5/2019,  ,...\n",
       "181644    [181644, Ordinance, In Committee, 2/5/2019,  ,...\n",
       "181619    [181619, Ordinance, In Committee, 2/5/2019,  ,...\n",
       "181598    [181598, Ordinance, In Committee, 2/5/2019,  ,...\n",
       "181583    [181583, Ordinance, In Committee, 2/5/2019,  ,...\n",
       "Name: other_info, dtype: object"
      ]
     },
     "execution_count": 57,
     "metadata": {},
     "output_type": "execute_result"
    }
   ],
   "source": [
    "df.other_info.head()"
   ]
  },
  {
   "cell_type": "code",
   "execution_count": 77,
   "metadata": {},
   "outputs": [],
   "source": [
    "#meta_legis_dict[2] #worked"
   ]
  },
  {
   "cell_type": "code",
   "execution_count": 33,
   "metadata": {},
   "outputs": [
    {
     "name": "stdout",
     "output_type": "stream",
     "text": [
      "Ordinance\n"
     ]
    }
   ],
   "source": [
    "meta_legis_dict2 = get_meta_data(legistar)"
   ]
  },
  {
   "cell_type": "code",
   "execution_count": 34,
   "metadata": {},
   "outputs": [
    {
     "data": {
      "text/plain": [
       "{'181642': {'link': 'https://milwaukee.legistar.com/LegislationDetail.aspx?ID=3857556&GUID=A3259554-D312-43C3-B3D9-9697F6D567B1&Options=ID|Text|&Search=',\n",
       "  'other_info': ['181642',\n",
       "   'Ordinance',\n",
       "   'In Committee',\n",
       "   '2/5/2019',\n",
       "   ' ',\n",
       "   'An ordinance relating to the city’s towing drop fee.']},\n",
       " '181644': {'link': 'https://milwaukee.legistar.com/LegislationDetail.aspx?ID=3856452&GUID=C84F3288-C6E3-42D8-8841-A85B2717C2CA&Options=ID|Text|&Search=',\n",
       "  'other_info': ['181644',\n",
       "   'Ordinance',\n",
       "   'In Committee',\n",
       "   '2/5/2019',\n",
       "   ' ',\n",
       "   'An ordinance relating to domestic partners of city employees.']},\n",
       " '181619': {'link': 'https://milwaukee.legistar.com/LegislationDetail.aspx?ID=3854541&GUID=C8563FB7-7504-404E-842B-0DA3CB24FBF9&Options=ID|Text|&Search=',\n",
       "  'other_info': ['181619',\n",
       "   'Ordinance',\n",
       "   'In Committee',\n",
       "   '2/5/2019',\n",
       "   ' ',\n",
       "   'An ordinance to further amend the 2019 offices and positions in the City Service.']},\n",
       " '181598': {'link': 'https://milwaukee.legistar.com/LegislationDetail.aspx?ID=3854522&GUID=48F6893B-A7CA-483B-A567-296A1CC42CF5&Options=ID|Text|&Search=',\n",
       "  'other_info': ['181598',\n",
       "   'Ordinance',\n",
       "   'In Committee',\n",
       "   '2/5/2019',\n",
       "   ' ',\n",
       "   'An ordinance relating to the change in zoning from Industrial-Office, IO2, to Local Business, LB2, for the property located at 603 North 36th Street, on the west side of North 36th Street, north of West Michigan Street, in the 10th Aldermanic District.']},\n",
       " '181583': {'link': 'https://milwaukee.legistar.com/LegislationDetail.aspx?ID=3854405&GUID=FE22786E-69FC-4241-B32C-885499D45C3F&Options=ID|Text|&Search=',\n",
       "  'other_info': ['181583',\n",
       "   'Ordinance',\n",
       "   'In Committee',\n",
       "   '2/5/2019',\n",
       "   ' ',\n",
       "   'A substitute ordinance relating to traffic controls.']},\n",
       " '181536': {'link': 'https://milwaukee.legistar.com/LegislationDetail.aspx?ID=3843398&GUID=EC38D14D-EDB8-4C3D-9F17-F4B812404244&Options=ID|Text|&Search=',\n",
       "  'other_info': ['181536',\n",
       "   'Ordinance',\n",
       "   'In Committee',\n",
       "   '1/14/2019',\n",
       "   ' ',\n",
       "   'A substitute ordinance establishing a Site Plan Review Overlay Zone for a portion of the property located at 6000 South 6th Street, on the east side of South 6th Street, north of West College Avenue, in the 13th Aldermanic District.']},\n",
       " '181527': {'link': 'https://milwaukee.legistar.com/LegislationDetail.aspx?ID=3843395&GUID=CDA50EDD-25E6-4289-9F31-5171D6611293&Options=ID|Text|&Search=',\n",
       "  'other_info': ['181527',\n",
       "   'Ordinance',\n",
       "   'In Committee',\n",
       "   '1/14/2019',\n",
       "   ' ',\n",
       "   'A substitute ordinance relating to a humane officer.']},\n",
       " '181540': {'link': 'https://milwaukee.legistar.com/LegislationDetail.aspx?ID=3837396&GUID=586FBA0E-4766-471F-9D55-ED4B2D04E78F&Options=ID|Text|&Search=',\n",
       "  'other_info': ['181540',\n",
       "   'Ordinance',\n",
       "   \"Mayor's Office\",\n",
       "   '1/14/2019',\n",
       "   '2/5/2019',\n",
       "   'A substitute ordinance relating to parking controls.']},\n",
       " '181501': {'link': 'https://milwaukee.legistar.com/LegislationDetail.aspx?ID=3836471&GUID=CEBD6F20-27D3-4ACE-AA64-85FB988E46A6&Options=ID|Text|&Search=',\n",
       "  'other_info': ['181501',\n",
       "   'Ordinance',\n",
       "   \"Mayor's Office\",\n",
       "   '1/14/2019',\n",
       "   '2/5/2019',\n",
       "   'A substitute ordinance to further amend the 2019 offices and positions in the City Service.']},\n",
       " '181435': {'link': 'https://milwaukee.legistar.com/LegislationDetail.aspx?ID=3786375&GUID=964D72BA-2F23-4F79-979D-B7C836E333C7&Options=ID|Text|&Search=',\n",
       "  'other_info': ['181435',\n",
       "   'Ordinance',\n",
       "   'In Committee',\n",
       "   '12/18/2018',\n",
       "   ' ',\n",
       "   'An ordinance relating to the issuance of parking citations by non-sworn employees of the Milwaukee police department.']},\n",
       " '181425': {'link': 'https://milwaukee.legistar.com/LegislationDetail.aspx?ID=3785828&GUID=422C14DF-680F-4CBB-808C-118D068AF15A&Options=ID|Text|&Search=',\n",
       "  'other_info': ['181425',\n",
       "   'Ordinance',\n",
       "   'Passed',\n",
       "   '12/18/2018',\n",
       "   '1/14/2019',\n",
       "   'An ordinance relating to the composition of the community relations - social development commission and the term of office for commissioners.']},\n",
       " '181403': {'link': 'https://milwaukee.legistar.com/LegislationDetail.aspx?ID=3785807&GUID=7C319833-8CED-4F65-9A0C-EA51B8919C0B&Options=ID|Text|&Search=',\n",
       "  'other_info': ['181403',\n",
       "   'Ordinance',\n",
       "   'Passed',\n",
       "   '12/18/2018',\n",
       "   '1/14/2019',\n",
       "   'A substitute ordinance to further amend the 2019 rates of pay of offices and positions in the City Service.']},\n",
       " '181393': {'link': 'https://milwaukee.legistar.com/LegislationDetail.aspx?ID=3785797&GUID=02CD8625-2078-4863-8B5D-3940A3B799BD&Options=ID|Text|&Search=',\n",
       "  'other_info': ['181393',\n",
       "   'Ordinance',\n",
       "   'In Committee',\n",
       "   '12/18/2018',\n",
       "   ' ',\n",
       "   'An ordinance relating to the change in zoning from Local Business, LB2, and Industrial-Office, IO2, to Commercial Service, CS, for the properties located at 603 North 36th Street and a portion of 3601 West Wisconsin Avenue, on the west side of North 36th Street, north of West Michigan Street, in the 10th Aldermanic District.']},\n",
       " '181337': {'link': 'https://milwaukee.legistar.com/LegislationDetail.aspx?ID=3785748&GUID=94DB4A5F-8263-4F85-AE0F-2200DB904757&Options=ID|Text|&Search=',\n",
       "  'other_info': ['181337',\n",
       "   'Ordinance',\n",
       "   'Passed',\n",
       "   '12/18/2018',\n",
       "   '1/14/2019',\n",
       "   'A substitute ordinance relating to traffic controls.']},\n",
       " '181331': {'link': 'https://milwaukee.legistar.com/LegislationDetail.aspx?ID=3774715&GUID=0489FE15-A81B-4575-BA0D-39E9AF2CB33A&Options=ID|Text|&Search=',\n",
       "  'other_info': ['181331',\n",
       "   'Ordinance',\n",
       "   'Passed',\n",
       "   '11/27/2018',\n",
       "   '1/14/2019',\n",
       "   'A substitute ordinance relating to property deconstruction.']},\n",
       " '181279': {'link': 'https://milwaukee.legistar.com/LegislationDetail.aspx?ID=3763820&GUID=DF54579A-7809-48F8-89A2-6C21FA5EAD66&Options=ID|Text|&Search=',\n",
       "  'other_info': ['181279',\n",
       "   'Ordinance',\n",
       "   'Passed',\n",
       "   '11/27/2018',\n",
       "   '12/18/2018',\n",
       "   'A substitute ordinance relating to the composition of the Vel R. Phillips trailblazer award selection committee.']},\n",
       " '181269': {'link': 'https://milwaukee.legistar.com/LegislationDetail.aspx?ID=3763811&GUID=86FA1BC0-CB0E-4137-B390-CBBEC174096E&Options=ID|Text|&Search=',\n",
       "  'other_info': ['181269',\n",
       "   'Ordinance',\n",
       "   'Passed',\n",
       "   '11/27/2018',\n",
       "   '12/18/2018',\n",
       "   'A substitute ordinance to further amend the 2019 rates of pay of offices and positions in the City Service.']},\n",
       " '181267': {'link': 'https://milwaukee.legistar.com/LegislationDetail.aspx?ID=3763809&GUID=9B0060CD-AE09-4E73-8245-67C4D326C9D9&Options=ID|Text|&Search=',\n",
       "  'other_info': ['181267',\n",
       "   'Ordinance',\n",
       "   'Placed On File',\n",
       "   '11/27/2018',\n",
       "   '12/18/2018',\n",
       "   'An ordinance to further amend the 2018 rates of pay of offices and positions in the City Service.']},\n",
       " '181224': {'link': 'https://milwaukee.legistar.com/LegislationDetail.aspx?ID=3763775&GUID=692CE406-054F-452D-B1FE-E292B5CF3666&Options=ID|Text|&Search=',\n",
       "  'other_info': ['181224',\n",
       "   'Ordinance',\n",
       "   'Passed',\n",
       "   '11/27/2018',\n",
       "   '12/18/2018',\n",
       "   'A substitute ordinance relating to traffic controls.']},\n",
       " '181208': {'link': 'https://milwaukee.legistar.com/LegislationDetail.aspx?ID=3763763&GUID=575E4397-F295-439C-8E4F-D6F86266A7A7&Options=ID|Text|&Search=',\n",
       "  'other_info': ['181208',\n",
       "   'Ordinance',\n",
       "   'In Committee',\n",
       "   '11/27/2018',\n",
       "   ' ',\n",
       "   'A substitute ordinance relating to the change in zoning from Two-Family Residential, RT3, to Industrial-Office, IO1, for the property located at 529 South 93rd Street, located on the west side of South 93rd Street, south of West Adler Street, in the 10th Aldermanic District.']},\n",
       " '181157': {'link': 'https://milwaukee.legistar.com/LegislationDetail.aspx?ID=3720336&GUID=845C4103-28AB-424D-A0D9-D5300DCCA227&Options=ID|Text|&Search=',\n",
       "  'other_info': ['181157',\n",
       "   'Ordinance',\n",
       "   'Passed',\n",
       "   '11/5/2018',\n",
       "   '12/18/2018',\n",
       "   'A substitute ordinance relating to the First Amendment to the General Planned Development, GPD, known as the Arena Master Plan to allow temporary banner signs and lighting on the existing parking structure on Block 2 of the GPD, located on the east side of North 6th Street between West Highland Avenue and West State Street, in the 4th Aldermanic District.']},\n",
       " '181154': {'link': 'https://milwaukee.legistar.com/LegislationDetail.aspx?ID=3720334&GUID=284A2099-AFBE-4F8B-8660-9C4D1F11C1E0&Options=ID|Text|&Search=',\n",
       "  'other_info': ['181154',\n",
       "   'Ordinance',\n",
       "   'In Committee',\n",
       "   '11/5/2018',\n",
       "   ' ',\n",
       "   'An ordinance relating to the penalties for exceeding posted speed limits in a residential area.']},\n",
       " '181148': {'link': 'https://milwaukee.legistar.com/LegislationDetail.aspx?ID=3720329&GUID=FE6E38E0-1122-4C23-BB39-C50C38B9C43F&Options=ID|Text|&Search=',\n",
       "  'other_info': ['181148',\n",
       "   'Ordinance',\n",
       "   'Passed',\n",
       "   '11/5/2018',\n",
       "   '11/27/2018',\n",
       "   'A substitute ordinance relating to traffic regulations and urban rail transit.']},\n",
       " '181142': {'link': 'https://milwaukee.legistar.com/LegislationDetail.aspx?ID=3720324&GUID=E474DF73-F0C0-40ED-B5E2-9B52FC6655AE&Options=ID|Text|&Search=',\n",
       "  'other_info': ['181142',\n",
       "   'Ordinance',\n",
       "   'Passed',\n",
       "   '11/5/2018',\n",
       "   '11/27/2018',\n",
       "   'A substitute ordinance to further amend the 2019 rates of pay of offices and positions in the City Service.']},\n",
       " '181140': {'link': 'https://milwaukee.legistar.com/LegislationDetail.aspx?ID=3720322&GUID=0D648279-722E-4F30-A672-1B74193CAC56&Options=ID|Text|&Search=',\n",
       "  'other_info': ['181140',\n",
       "   'Ordinance',\n",
       "   'Passed',\n",
       "   '11/5/2018',\n",
       "   '11/27/2018',\n",
       "   'A substitute ordinance to further amend the 2018 rates of pay of offices and positions in the City Service.']},\n",
       " '181108': {'link': 'https://milwaukee.legistar.com/LegislationDetail.aspx?ID=3720286&GUID=C9383C6A-885F-4EB7-8FDC-9D41F5CA92C3&Options=ID|Text|&Search=',\n",
       "  'other_info': ['181108',\n",
       "   'Ordinance',\n",
       "   'Passed',\n",
       "   '11/5/2018',\n",
       "   '11/27/2018',\n",
       "   'A substitute ordinance relating to traffic controls.']},\n",
       " '181083': {'link': 'https://milwaukee.legistar.com/LegislationDetail.aspx?ID=3720279&GUID=A571CB67-2D4B-4FD9-93E4-5D1B7230B195&Options=ID|Text|&Search=',\n",
       "  'other_info': ['181083',\n",
       "   'Ordinance',\n",
       "   'Passed',\n",
       "   '11/5/2018',\n",
       "   '11/27/2018',\n",
       "   'A substitute ordinance relating to a technical correction to the holiday accrual rate for certain employees within the department of public works.']},\n",
       " '181075': {'link': 'https://milwaukee.legistar.com/LegislationDetail.aspx?ID=3705371&GUID=3441BBD8-DD72-4A43-A332-6661700D5679&Options=ID|Text|&Search=',\n",
       "  'other_info': ['181075',\n",
       "   'Ordinance',\n",
       "   'Passed',\n",
       "   '10/16/2018',\n",
       "   '1/14/2019',\n",
       "   'An ordinance relating to the change in zoning, from Institutional to Parks, of lands located south of West Hampton Avenue and east of North Port Washington Road (6th Aldermanic District).']},\n",
       " '181045': {'link': 'https://milwaukee.legistar.com/LegislationDetail.aspx?ID=3704549&GUID=F6E9D89D-CE83-4525-A55F-98E9738A29D8&Options=ID|Text|&Search=',\n",
       "  'other_info': ['181045',\n",
       "   'Ordinance',\n",
       "   'Passed',\n",
       "   '10/16/2018',\n",
       "   '11/27/2018',\n",
       "   'A substitute ordinance relating to the change in zoning from Multi-Family Residential, RM5, to Local Business, LB2, for the property located at 1025-1027 North 26th Street to consolidate the zoning of the site and combine it with the adjacent parcels at 2600 and 2612-16 West State Street, on the west side of North 26th Street, north of West State Street, in the 4th Aldermanic District.']},\n",
       " '181013': {'link': 'https://milwaukee.legistar.com/LegislationDetail.aspx?ID=3704524&GUID=8A46277B-8C3A-4DD3-997F-CBF93772C6DA&Options=ID|Text|&Search=',\n",
       "  'other_info': ['181013',\n",
       "   'Ordinance',\n",
       "   'Passed',\n",
       "   '10/16/2018',\n",
       "   '11/5/2018',\n",
       "   'A substitute ordinance to further amend the 2019 rates of pay of offices and positions in the City Service.']},\n",
       " '181011': {'link': 'https://milwaukee.legistar.com/LegislationDetail.aspx?ID=3704522&GUID=3EF44637-6CAA-44DB-B096-6E2A3BC61654&Options=ID|Text|&Search=',\n",
       "  'other_info': ['181011',\n",
       "   'Ordinance',\n",
       "   'Passed',\n",
       "   '10/16/2018',\n",
       "   '11/5/2018',\n",
       "   'A substitute ordinance to further amend the 2018 rates of pay of offices and positions in the City Service.']},\n",
       " '180992': {'link': 'https://milwaukee.legistar.com/LegislationDetail.aspx?ID=3704504&GUID=E126C6AE-CF51-44DF-9C72-DD2FA3EB1898&Options=ID|Text|&Search=',\n",
       "  'other_info': ['180992',\n",
       "   'Ordinance',\n",
       "   'Passed',\n",
       "   '10/16/2018',\n",
       "   '11/5/2018',\n",
       "   'A substitute ordinance relating to traffic controls.']},\n",
       " '180930': {'link': 'https://milwaukee.legistar.com/LegislationDetail.aspx?ID=3704474&GUID=F5FCB0B1-73B9-4F89-839A-CE54866A098B&Options=ID|Text|&Search=',\n",
       "  'other_info': ['180930',\n",
       "   'Ordinance',\n",
       "   'Passed',\n",
       "   '10/16/2018',\n",
       "   '11/27/2018',\n",
       "   'A substitute ordinance relating to regulations, requirements, and procedures for various licenses and permits.']},\n",
       " '180942': {'link': 'https://milwaukee.legistar.com/LegislationDetail.aspx?ID=3687346&GUID=0F608B08-F29D-41FD-98B5-31CF67A70892&Options=ID|Text|&Search=',\n",
       "  'other_info': ['180942',\n",
       "   'Ordinance',\n",
       "   'In Committee',\n",
       "   '9/25/2018',\n",
       "   ' ',\n",
       "   'A substitute ordinance establishing the Brigadier General Robert A. Cocroft veteran community service award.']},\n",
       " '180919': {'link': 'https://milwaukee.legistar.com/LegislationDetail.aspx?ID=3686854&GUID=F27ED4A7-1D39-44DC-A49A-ECDBBB82F2CC&Options=ID|Text|&Search=',\n",
       "  'other_info': ['180919',\n",
       "   'Ordinance',\n",
       "   \"Mayor's Office\",\n",
       "   '9/25/2018',\n",
       "   '2/5/2019',\n",
       "   'A substitute ordinance establishing a board of health.']},\n",
       " '180895': {'link': 'https://milwaukee.legistar.com/LegislationDetail.aspx?ID=3686835&GUID=A0BD8A42-A118-44FB-848E-565D7238A3D3&Options=ID|Text|&Search=',\n",
       "  'other_info': ['180895',\n",
       "   'Ordinance',\n",
       "   'Passed',\n",
       "   '9/25/2018',\n",
       "   '10/16/2018',\n",
       "   'A substitute ordinance to further amend the 2018 offices and positions in the City Service.']},\n",
       " '180869': {'link': 'https://milwaukee.legistar.com/LegislationDetail.aspx?ID=3686814&GUID=C3F97FD2-796F-47C2-B2DE-20158604807B&Options=ID|Text|&Search=',\n",
       "  'other_info': ['180869',\n",
       "   'Ordinance',\n",
       "   'Passed',\n",
       "   '9/25/2018',\n",
       "   '10/16/2018',\n",
       "   'A substitute ordinance relating to surveys of water supply cross-connections.']},\n",
       " '180857': {'link': 'https://milwaukee.legistar.com/LegislationDetail.aspx?ID=3686803&GUID=00FE4C73-82A6-4965-8524-27CEF2C377D3&Options=ID|Text|&Search=',\n",
       "  'other_info': ['180857',\n",
       "   'Ordinance',\n",
       "   'Passed',\n",
       "   '9/25/2018',\n",
       "   '10/16/2018',\n",
       "   'A substitute ordinance relating to traffic controls.']},\n",
       " '180813': {'link': 'https://milwaukee.legistar.com/LegislationDetail.aspx?ID=3651619&GUID=513FBF96-EDE9-488F-844C-B046450D0F7D&Options=ID|Text|&Search=',\n",
       "  'other_info': ['180813',\n",
       "   'Ordinance',\n",
       "   'Passed',\n",
       "   '9/5/2018',\n",
       "   '10/16/2018',\n",
       "   'A substitute ordinance establishing a Milwaukee Inspector General within the Common Council-City Clerk’s Office.']},\n",
       " '180777': {'link': 'https://milwaukee.legistar.com/LegislationDetail.aspx?ID=3651499&GUID=A7250350-A8FC-4217-B093-E41BCFE221AA&Options=ID|Text|&Search=',\n",
       "  'other_info': ['180777',\n",
       "   'Ordinance',\n",
       "   'Passed',\n",
       "   '9/5/2018',\n",
       "   '11/13/2018',\n",
       "   'A substitute ordinance increasing various fees and forfeitures.']},\n",
       " '180724': {'link': 'https://milwaukee.legistar.com/LegislationDetail.aspx?ID=3651453&GUID=C04EAF3A-7336-4611-A2E1-D20D258A89EB&Options=ID|Text|&Search=',\n",
       "  'other_info': ['180724',\n",
       "   'Ordinance',\n",
       "   'In Committee',\n",
       "   '9/5/2018',\n",
       "   ' ',\n",
       "   'An ordinance relating to requirements for certified survey maps and subdivision plats.']},\n",
       " '180710': {'link': 'https://milwaukee.legistar.com/LegislationDetail.aspx?ID=3651422&GUID=65B25386-191C-4F38-907D-D9FE9D34027D&Options=ID|Text|&Search=',\n",
       "  'other_info': ['180710',\n",
       "   'Ordinance',\n",
       "   'Passed',\n",
       "   '9/5/2018',\n",
       "   '9/25/2018',\n",
       "   'A substitute ordinance relating to parking controls.']},\n",
       " '180676': {'link': 'https://milwaukee.legistar.com/LegislationDetail.aspx?ID=3651408&GUID=F95C873D-E6C1-41CB-B960-89B50E54FF88&Options=ID|Text|&Search=',\n",
       "  'other_info': ['180676',\n",
       "   'Ordinance',\n",
       "   'In Committee',\n",
       "   '9/5/2018',\n",
       "   ' ',\n",
       "   'An ordinance relating to the presence on the public right-of-way of motor vehicles or other vehicles that are prohibited under state law.']},\n",
       " '180649': {'link': 'https://milwaukee.legistar.com/LegislationDetail.aspx?ID=3588940&GUID=AD31C4B6-183A-4672-BEAB-12A403484ECE&Options=ID|Text|&Search=',\n",
       "  'other_info': ['180649',\n",
       "   'Ordinance',\n",
       "   'Passed',\n",
       "   '7/31/2018',\n",
       "   '9/25/2018',\n",
       "   'A substitute ordinance to further amend the 2018 offices and positions in the City Service.']},\n",
       " '180629': {'link': 'https://milwaukee.legistar.com/LegislationDetail.aspx?ID=3588922&GUID=C485092D-F5A6-4244-A050-5DE27BAF8EAC&Options=ID|Text|&Search=',\n",
       "  'other_info': ['180629',\n",
       "   'Ordinance',\n",
       "   'Passed',\n",
       "   '7/31/2018',\n",
       "   '11/13/2018',\n",
       "   'A substitute ordinance determining the offices and positions in the various departments, bureaus, boards and commissions in the City Service under control of the Common Council of the City of Milwaukee.']},\n",
       " '180606': {'link': 'https://milwaukee.legistar.com/LegislationDetail.aspx?ID=3553109&GUID=7DD8BDCF-9B1B-4CA3-8181-D25A6DE188DD&Options=ID|Text|&Search=',\n",
       "  'other_info': ['180606',\n",
       "   'Ordinance',\n",
       "   'Passed',\n",
       "   '7/10/2018',\n",
       "   '7/31/2018',\n",
       "   'A substitute ordinance relating to dockless motorized scooters in the city.']},\n",
       " '180545': {'link': 'https://milwaukee.legistar.com/LegislationDetail.aspx?ID=3549862&GUID=37F36622-DA80-4881-A94A-46BB58C206FD&Options=ID|Text|&Search=',\n",
       "  'other_info': ['180545',\n",
       "   'Ordinance',\n",
       "   'Passed',\n",
       "   '7/10/2018',\n",
       "   '7/31/2018',\n",
       "   'A substitute ordinance to further amend the 2018 offices and positions in the City Service.']},\n",
       " '180532': {'link': 'https://milwaukee.legistar.com/LegislationDetail.aspx?ID=3549852&GUID=D07DE41F-ED5F-45E5-A59A-F502361402F5&Options=ID|Text|&Search=',\n",
       "  'other_info': ['180532',\n",
       "   'Ordinance',\n",
       "   'Passed',\n",
       "   '7/10/2018',\n",
       "   '9/25/2018',\n",
       "   'A substitute ordinance relating to the Second Amendment to the Detailed Planned Development known as Park Place, Stage 25, to permit the expansion of a surface parking lot for an existing office building at 11002 West Park Place, in the 5th Aldermanic District.']},\n",
       " '180506': {'link': 'https://milwaukee.legistar.com/LegislationDetail.aspx?ID=3549828&GUID=F4F9EF48-51DB-41D4-87C4-C7E98513ECFD&Options=ID|Text|&Search=',\n",
       "  'other_info': ['180506',\n",
       "   'Ordinance',\n",
       "   'Passed',\n",
       "   '7/10/2018',\n",
       "   '7/31/2018',\n",
       "   'A substitute ordinance relating to traffic controls.']},\n",
       " '180501': {'link': 'https://milwaukee.legistar.com/LegislationDetail.aspx?ID=3549822&GUID=37E8036F-52F0-425D-A7C6-01398D6B4AF2&Options=ID|Text|&Search=',\n",
       "  'other_info': ['180501',\n",
       "   'Ordinance',\n",
       "   'Passed',\n",
       "   '7/10/2018',\n",
       "   '7/31/2018',\n",
       "   'A substitute ordinance relating to various employee benefit code provisions.']}}"
      ]
     },
     "execution_count": 34,
     "metadata": {},
     "output_type": "execute_result"
    }
   ],
   "source": [
    "meta_legis_dict2[0]"
   ]
  },
  {
   "cell_type": "code",
   "execution_count": null,
   "metadata": {},
   "outputs": [],
   "source": [
    "meta_leg_df = pd.DataFrame.from_dict(meta_legis_dict)"
   ]
  },
  {
   "cell_type": "code",
   "execution_count": null,
   "metadata": {},
   "outputs": [],
   "source": [
    "def objectIdentificationUsingWaits(self, maxTimeOut, locatorProperties, locatorType = \"xpath\"):\n",
    "        element = None\n",
    "        try:\n",
    "            WebDriverWait(self.driver, maxTimeOut, ignored_exceptions=[StaleElementReferenceException]).until(\n",
    "                EC.presence_of_element_located((self.getLocatorType(locatorType), locatorProperties)))\n",
    "            element = self.driver.find_element(locatorType, locatorProperties)\n",
    "        except:\n",
    "            print(\"Exception occurred during object identification.\")\n",
    "        return element"
   ]
  },
  {
   "cell_type": "code",
   "execution_count": 662,
   "metadata": {},
   "outputs": [
    {
     "name": "stdout",
     "output_type": "stream",
     "text": [
      "Ordinance\n",
      "181536 Ordinance In Committee 1/14/2019   An ordinance establishing a Site Plan Review Overlay Zone for the property located at 6000 South 6th Street, on the east side of South 6th Street, north of West College Avenue, in the 13th Aldermanic District.\n",
      "[]\n"
     ]
    }
   ],
   "source": [
    "from selenium.common.exceptions import StaleElementReferenceException\n",
    "\n",
    "test = visit_site(legistar)\n",
    "#time.sleep(5)\n",
    "select_all_years(test)\n",
    "time.sleep(5)\n",
    "select_ordinance(test)\n",
    "start_search(test)\n",
    "time.sleep(3)\n",
    "get_max_results(test)\n",
    "time.sleep(.5)\n",
    "\n",
    "\n",
    "\n",
    "col_names = [0,'type','status','created_date','final_action','title']\n",
    "leg_dict = {}\n",
    "r_table_body = get_records_table(test)\n",
    "print(r_table_body.text)\n",
    "print(r_table_body.find_elements_by_class_name('rgRow'))\n",
    "#print(r_table_body.find_elements_by_class_name('rgRow')[0].text)\n",
    "for row in r_table_body.find_elements_by_class_name('rgRow'):\n",
    "    print(row.get_attribute('id'),'id')\n",
    "    file_num = row.find_element_by_css_selector('td').find_element_by_css_selector('a').text\n",
    "    leg_dict[file_num] = {}\n",
    "    try:\n",
    "        link = row.find_element_by_id('ctl00_ContentPlaceHolder1_gridMain_ctl00_ctl04_hypFile').get_attribute('href')\n",
    "    except:\n",
    "        link='no link'\n",
    "    leg_dict[file_num]['file_link'] = link\n",
    "    print(file_num,'file_num and ', link,' link')\n",
    "    for d,col in zip(row.find_elements_by_css_selector('td'),col_names):\n",
    "                if not col:\n",
    "                    continue\n",
    "                \n",
    "                leg_dict[file_num][col] = d.text"
   ]
  },
  {
   "cell_type": "code",
   "execution_count": null,
   "metadata": {},
   "outputs": [],
   "source": []
  }
 ],
 "metadata": {
  "kernelspec": {
   "display_name": "Python 3",
   "language": "python",
   "name": "python3"
  },
  "language_info": {
   "codemirror_mode": {
    "name": "ipython",
    "version": 3
   },
   "file_extension": ".py",
   "mimetype": "text/x-python",
   "name": "python",
   "nbconvert_exporter": "python",
   "pygments_lexer": "ipython3",
   "version": "3.7.0"
  }
 },
 "nbformat": 4,
 "nbformat_minor": 2
}
