{
 "cells": [
  {
   "cell_type": "code",
   "execution_count": 47,
   "metadata": {},
   "outputs": [],
   "source": [
    "from selenium import webdriver\n",
    "from selenium.webdriver.firefox.firefox_binary import FirefoxBinary\n",
    "from selenium.webdriver.common.action_chains import ActionChains\n",
    "import csv\n",
    "import scrapy\n",
    "import time\n",
    "import re\n",
    "import pandas as pd\n",
    "from sqlalchemy import create_engine\n",
    "import sqlite3\n",
    "from selenium.webdriver.firefox.options import Options\n",
    "import multiprocessing as mp\n"
   ]
  },
  {
   "cell_type": "code",
   "execution_count": 38,
   "metadata": {},
   "outputs": [],
   "source": [
    "#you will need to put your own path to the firefox binary here\n",
    "#binary = FirefoxBinary()\n",
    "legistar = 'https://milwaukee.legistar.com/Legislation.aspx'\n",
    "\n",
    "def visit_site(legistar, headless=False, phantom=False):\n",
    "    if phantom == False:\n",
    "        if headless:\n",
    "            options = Options()\n",
    "            options.headless = True\n",
    "            mkeDriver = webdriver.Firefox(options = options, executable_path='/Users/ayaspan/Documents/Personal/voting_records_mke/geckodriver')\n",
    "        else:\n",
    "            mkeDriver = webdriver.Firefox(executable_path='/Users/ayaspan/Documents/Personal/voting_records_mke/geckodriver')\n",
    "        try: \n",
    "            mkeDriver.get(legistar)\n",
    "        except:\n",
    "            return None\n",
    "        return mkeDriver\n",
    "    else:\n",
    "        mkeDriver = webdriver.PhantomJS()\n",
    "        mkeDriver.get(legistar)\n",
    "        return mkeDriver\n"
   ]
  },
  {
   "cell_type": "code",
   "execution_count": 375,
   "metadata": {},
   "outputs": [],
   "source": [
    "mkeDriver2 = visit_site(legistar)"
   ]
  },
  {
   "cell_type": "code",
   "execution_count": 385,
   "metadata": {},
   "outputs": [
    {
     "name": "stdout",
     "output_type": "stream",
     "text": [
      "[]\n"
     ]
    }
   ],
   "source": [
    "test = get_next_page(mkeDriver2)"
   ]
  },
  {
   "cell_type": "code",
   "execution_count": null,
   "metadata": {},
   "outputs": [],
   "source": []
  },
  {
   "cell_type": "code",
   "execution_count": 3,
   "metadata": {},
   "outputs": [],
   "source": [
    "def select_all_years(mkeDriver):\n",
    "    years = mkeDriver.find_element_by_id(\"ctl00_ContentPlaceHolder1_lstYears_Input\")\n",
    "    years.send_keys('All Years')\n",
    "    years.submit()\n",
    "    #return years"
   ]
  },
  {
   "cell_type": "code",
   "execution_count": 4,
   "metadata": {},
   "outputs": [],
   "source": [
    "#makes it so that you have max results\n",
    "\n",
    "def get_max_results(mkeDriver):\n",
    "    step1 = mkeDriver.find_elements_by_id(\"ctl00_ContentPlaceHolder1_menuMain\")[0]\n",
    "    action = ActionChains(mkeDriver)\n",
    "    action.click(step1.find_elements_by_class_name(\"rmItem \")[1])\n",
    "    #action.click(step1.find_elements_by_class_name(\"rmItem \")[1].find_element_by_css_selector(\"a\"))\n",
    "    action.perform()\n",
    "    time.sleep(1)\n",
    "    step2 = step1.find_elements_by_class_name(\"rmItem \")[1].parent\n",
    "    #print(step2.text)\n",
    "    action = ActionChains(mkeDriver)\n",
    "    # action_test2 = ActionChains(testDriver)\n",
    "    action.move_to_element(step2.find_element_by_class_name(\"rmSlide\").find_element_by_class_name(\"rmLast\"))\n",
    "    action.click(step2.find_element_by_class_name(\"rmSlide\").find_element_by_class_name(\"rmLast\"))\n",
    "    action.perform()\n",
    "    #return mkeDriver"
   ]
  },
  {
   "cell_type": "code",
   "execution_count": 5,
   "metadata": {},
   "outputs": [],
   "source": [
    "# re.search(r'(?<=of\\s)[0-9]+',mkeDriver.find_elements_by_class_name(\"rgPagerCell\")[0]\\\n",
    "#             .find_element_by_class_name(\"rgInfoPart\").text)[0]"
   ]
  },
  {
   "cell_type": "code",
   "execution_count": 6,
   "metadata": {},
   "outputs": [],
   "source": [
    "#need to consider the recursion involved in looping through pages OR use above"
   ]
  },
  {
   "cell_type": "code",
   "execution_count": 7,
   "metadata": {},
   "outputs": [],
   "source": [
    "#locats page link \n",
    "def get_next_page(mkeDriver):\n",
    "    pgs_drop = mkeDriver.find_elements_by_class_name(\"rgPagerCell\")\n",
    "    #print(pgs_drop)\n",
    "    try:\n",
    "        return pgs_drop[0].find_element_by_xpath(\"//a[@class='rgCurrentPage']/following-sibling::a\")\n",
    "    except:\n",
    "        return None\n",
    "\n",
    "def go_to_next_page(next_page):\n",
    "    next_page.click()"
   ]
  },
  {
   "cell_type": "code",
   "execution_count": 19,
   "metadata": {},
   "outputs": [],
   "source": [
    "def select_ordinance(mkeDriver):\n",
    "    type_ordinance = mkeDriver.find_element_by_id(\"ctl00_ContentPlaceHolder1_lstTypeBasic_Arrow\").click()\n",
    "    legislation_type = mkeDriver.find_element_by_id(\"ctl00_ContentPlaceHolder1_lstTypeBasic_DropDown\")\\\n",
    "                .find_elements_by_class_name(\"rcbItem\")\n",
    "    print(legislation_type[15].text)\n",
    "    actions = ActionChains(mkeDriver)\n",
    "    actions.move_to_element(legislation_type[15])\n",
    "    actions.click(legislation_type[15])\n",
    "    actions.perform()\n",
    "    #choose_ordinance.perform()#.double_click()\n",
    "#type_legislation.s\n",
    "#type_legislation.submit()"
   ]
  },
  {
   "cell_type": "code",
   "execution_count": 9,
   "metadata": {},
   "outputs": [],
   "source": [
    "# legislation_type = mkeDriver.find_element_by_id(\"ctl00_ContentPlaceHolder1_lstTypeBasic_DropDown\")\\\n",
    "#                 .find_elements_by_class_name(\"rcbItem\")\n",
    "# hover_ord = ActionChains(mkeDriver).move_to_element(legislation_type[14])\n",
    "# hover_ord.perform().send_keys(\"Ordinance\").double_click()"
   ]
  },
  {
   "cell_type": "code",
   "execution_count": 10,
   "metadata": {},
   "outputs": [],
   "source": [
    "def start_search(mkeDriver):\n",
    "    s_button = mkeDriver.find_element_by_id(\"visibleSearchButton\")\n",
    "    s_button.click()\n",
    "    #return mkeDriver"
   ]
  },
  {
   "cell_type": "code",
   "execution_count": 64,
   "metadata": {},
   "outputs": [],
   "source": [
    "def get_records_table(mkeDriver):\n",
    "    records_table = mkeDriver.find_element_by_id(\"ctl00_ContentPlaceHolder1_gridMain\")\n",
    "    r_table_body = records_table.find_elements_by_class_name(\"rgRow\")\n",
    "    r_table_body2 = records_table.find_elements_by_class_name(\"rgAltRow\")\n",
    "    return r_table_body, r_table_body2"
   ]
  },
  {
   "cell_type": "code",
   "execution_count": 12,
   "metadata": {},
   "outputs": [],
   "source": [
    "# for i in records_table.find_elements_by_css_selector('a'):\n",
    "#     if 'https' in i.get_attribute('href'):\n",
    "#         print(i.get_attribute('href'))"
   ]
  },
  {
   "cell_type": "code",
   "execution_count": 13,
   "metadata": {},
   "outputs": [],
   "source": [
    "#r_table_body = records_table.find_element_by_css_selector(\"tbody\")"
   ]
  },
  {
   "cell_type": "code",
   "execution_count": 14,
   "metadata": {},
   "outputs": [],
   "source": [
    "#can change # of records per page :)"
   ]
  },
  {
   "cell_type": "code",
   "execution_count": 63,
   "metadata": {},
   "outputs": [],
   "source": [
    "#if status passed\n",
    "import time\n",
    "\n",
    "def get_meta_data(legistar):\n",
    "    count=0\n",
    "    leg_dict = {}\n",
    "    col_names = [0,'type','status','created_date','final_action','title']\n",
    "    \n",
    "    #CALL OTHER REQUISITE FUNCTIONS FIRST\n",
    "    mkeDriver = visit_site(legistar)\n",
    "    #time.sleep(5)\n",
    "    select_all_years(mkeDriver)\n",
    "    time.sleep(2)\n",
    "    select_ordinance(mkeDriver)\n",
    "    start_search(mkeDriver)\n",
    "    time.sleep(2)\n",
    "    get_max_results(mkeDriver)\n",
    "    \n",
    "    while True:\n",
    "        time.sleep(4)\n",
    "        r_table_body, r_table_body2 = get_records_table(mkeDriver)\n",
    "        if count in leg_dict:\n",
    "            print('dup')\n",
    "            continue\n",
    "        else:\n",
    "            leg_dict[count]= {i.find_element_by_css_selector('td').find_element_by_css_selector('a').text:{\n",
    "                          'link': i.find_element_by_css_selector('a').get_attribute('href'),\n",
    "                           'other_info':[j.text for j in i.find_elements_by_css_selector('td')]} for i in r_table_body}\n",
    "            count+=1\n",
    "            leg_dict[count] = {i.find_element_by_css_selector('td').find_element_by_css_selector('a').text:{\n",
    "                          'link': i.find_element_by_css_selector('a').get_attribute('href'),\n",
    "                           'other_info':[j.text for j in i.find_elements_by_css_selector('td')]} for i in r_table_body2}\n",
    "        #works\n",
    "        #leg_dict[count] = [i.text for i in r_table_body]\n",
    "        \n",
    "        #print(r_table_body.text)\n",
    "        #print(r_table_body.find_elements_by_class_name('rgRow')[0].text)\n",
    "#         for row in r_table_body.find_elements_by_class_name('rgRow'):\n",
    "#             print(row.get_attribute('id'),'id')\n",
    "#             file_num = row.find_element_by_css_selector('td').find_element_by_css_selector('a').text\n",
    "#             leg_dict[file_num] = {}\n",
    "#             link = row.find_element_by_id('ctl00_ContentPlaceHolder1_gridMain_ctl00_ctl04_hypFile').get_attribute('href')\n",
    "#             leg_dict[file_num]['file_link'] = link\n",
    "#             print(file_num,'file_num and ', link,' link')\n",
    "\n",
    "#             for d,col in zip(row.find_elements_by_css_selector('td'),col_names):\n",
    "#                 if not col:\n",
    "#                     continue\n",
    "#                 #if leg_dict[file_num]['status'] in ('Passed',\"Mayor's Office\",'Dead','Placed On File'): use this later for going through links\n",
    "#                 leg_dict[file_num][col] = d.text\n",
    "# #                 leg_dict[file_num]['status'] = d.text\n",
    "# #                 leg_dict[file_num]['created_date'] = d.text\n",
    "# #                 leg_dict[file_num]['final_action'] = d.text\n",
    "#                 leg_dict[file_num]['title'] = d.text\n",
    "        time.sleep(.5)\n",
    "        \n",
    "        \n",
    "        next_page = get_next_page(mkeDriver)\n",
    "        \n",
    "        if not next_page:\n",
    "            return leg_dict\n",
    "        else:\n",
    "            next_page.click()\n",
    "        \n",
    "        \n",
    "        count+=1\n",
    "    "
   ]
  },
  {
   "cell_type": "code",
   "execution_count": 60,
   "metadata": {},
   "outputs": [],
   "source": [
    "#leg_dict"
   ]
  },
  {
   "cell_type": "code",
   "execution_count": 65,
   "metadata": {},
   "outputs": [
    {
     "name": "stdout",
     "output_type": "stream",
     "text": [
      "Ordinance\n"
     ]
    }
   ],
   "source": [
    "meta_legis_dict = get_meta_data(legistar)"
   ]
  },
  {
   "cell_type": "code",
   "execution_count": 68,
   "metadata": {},
   "outputs": [],
   "source": [
    "df = pd.DataFrame()\n",
    "\n",
    "for key,val in meta_legis_dict.items():\n",
    "    df = df.append(pd.DataFrame.from_dict(val).T)\n"
   ]
  },
  {
   "cell_type": "code",
   "execution_count": 69,
   "metadata": {},
   "outputs": [
    {
     "data": {
      "text/plain": [
       "(4716, 2)"
      ]
     },
     "execution_count": 69,
     "metadata": {},
     "output_type": "execute_result"
    }
   ],
   "source": [
    "df.shape"
   ]
  },
  {
   "cell_type": "code",
   "execution_count": 120,
   "metadata": {},
   "outputs": [],
   "source": [
    "def splitDataFrameList(df,target_column,col_list):\n",
    "    ''' df = dataframe to split,\n",
    "    target_column = the column containing the values to split\n",
    "    separator = the symbol used to perform the split\n",
    "    returns: a dataframe with each entry for the target column separated, with each element moved into a new row. \n",
    "    The values in the other columns are duplicated across the newly divided rows.\n",
    "    '''\n",
    "    row_accumulator = []\n",
    "\n",
    "    def splitListToRows(row):\n",
    "        #new_row = {}\n",
    "        split_row = row[target_column]\n",
    "        new_row = row.to_dict()\n",
    "        for col_name, s in zip(col_list,split_row):\n",
    "            new_row[col_name] = s\n",
    "        row_accumulator.append(new_row)\n",
    "\n",
    "    df.apply(splitListToRows, axis=1)\n",
    "    new_df = pd.DataFrame(row_accumulator)\n",
    "    return new_df"
   ]
  },
  {
   "cell_type": "code",
   "execution_count": 130,
   "metadata": {},
   "outputs": [],
   "source": [
    "col_list = ['file_number','type','status','file_created','final_action','title']\n",
    "new_df = splitDataFrameList(df,'other_info',col_list)"
   ]
  },
  {
   "cell_type": "code",
   "execution_count": 131,
   "metadata": {},
   "outputs": [],
   "source": [
    "new_df.drop(columns='other_info',inplace=True)"
   ]
  },
  {
   "cell_type": "code",
   "execution_count": 132,
   "metadata": {},
   "outputs": [
    {
     "data": {
      "text/html": [
       "<div>\n",
       "<style scoped>\n",
       "    .dataframe tbody tr th:only-of-type {\n",
       "        vertical-align: middle;\n",
       "    }\n",
       "\n",
       "    .dataframe tbody tr th {\n",
       "        vertical-align: top;\n",
       "    }\n",
       "\n",
       "    .dataframe thead th {\n",
       "        text-align: right;\n",
       "    }\n",
       "</style>\n",
       "<table border=\"1\" class=\"dataframe\">\n",
       "  <thead>\n",
       "    <tr style=\"text-align: right;\">\n",
       "      <th></th>\n",
       "      <th>file_created</th>\n",
       "      <th>file_number</th>\n",
       "      <th>final_action</th>\n",
       "      <th>link</th>\n",
       "      <th>status</th>\n",
       "      <th>title</th>\n",
       "      <th>type</th>\n",
       "    </tr>\n",
       "  </thead>\n",
       "  <tbody>\n",
       "    <tr>\n",
       "      <th>4711</th>\n",
       "      <td>10/30/1992</td>\n",
       "      <td>921221</td>\n",
       "      <td>5/14/2002</td>\n",
       "      <td>https://milwaukee.legistar.com/LegislationDeta...</td>\n",
       "      <td>Placed On File</td>\n",
       "      <td>An ordinance relating to use of public passeng...</td>\n",
       "      <td>Ordinance</td>\n",
       "    </tr>\n",
       "    <tr>\n",
       "      <th>4712</th>\n",
       "      <td>7/7/1992</td>\n",
       "      <td>920585</td>\n",
       "      <td>5/19/2000</td>\n",
       "      <td>https://milwaukee.legistar.com/LegislationDeta...</td>\n",
       "      <td>Placed On File</td>\n",
       "      <td>A substitute ordinance relating to apprentices...</td>\n",
       "      <td>Ordinance</td>\n",
       "    </tr>\n",
       "    <tr>\n",
       "      <th>4713</th>\n",
       "      <td>2/5/1992</td>\n",
       "      <td>911966</td>\n",
       "      <td>10/30/1998</td>\n",
       "      <td>https://milwaukee.legistar.com/LegislationDeta...</td>\n",
       "      <td>Placed On File</td>\n",
       "      <td>A substitute ordinance relating to architectur...</td>\n",
       "      <td>Ordinance</td>\n",
       "    </tr>\n",
       "    <tr>\n",
       "      <th>4714</th>\n",
       "      <td>11/29/1990</td>\n",
       "      <td>901402</td>\n",
       "      <td>6/25/2002</td>\n",
       "      <td>https://milwaukee.legistar.com/LegislationDeta...</td>\n",
       "      <td>Passed</td>\n",
       "      <td>A substitute ordinance relating to the prohibi...</td>\n",
       "      <td>Ordinance</td>\n",
       "    </tr>\n",
       "    <tr>\n",
       "      <th>4715</th>\n",
       "      <td>7/28/1987</td>\n",
       "      <td>870858</td>\n",
       "      <td>9/23/2003</td>\n",
       "      <td>https://milwaukee.legistar.com/LegislationDeta...</td>\n",
       "      <td>Placed On File</td>\n",
       "      <td>Substitute ordinance relating to the change in...</td>\n",
       "      <td>Ordinance</td>\n",
       "    </tr>\n",
       "  </tbody>\n",
       "</table>\n",
       "</div>"
      ],
      "text/plain": [
       "     file_created file_number final_action  \\\n",
       "4711   10/30/1992      921221    5/14/2002   \n",
       "4712     7/7/1992      920585    5/19/2000   \n",
       "4713     2/5/1992      911966   10/30/1998   \n",
       "4714   11/29/1990      901402    6/25/2002   \n",
       "4715    7/28/1987      870858    9/23/2003   \n",
       "\n",
       "                                                   link          status  \\\n",
       "4711  https://milwaukee.legistar.com/LegislationDeta...  Placed On File   \n",
       "4712  https://milwaukee.legistar.com/LegislationDeta...  Placed On File   \n",
       "4713  https://milwaukee.legistar.com/LegislationDeta...  Placed On File   \n",
       "4714  https://milwaukee.legistar.com/LegislationDeta...          Passed   \n",
       "4715  https://milwaukee.legistar.com/LegislationDeta...  Placed On File   \n",
       "\n",
       "                                                  title       type  \n",
       "4711  An ordinance relating to use of public passeng...  Ordinance  \n",
       "4712  A substitute ordinance relating to apprentices...  Ordinance  \n",
       "4713  A substitute ordinance relating to architectur...  Ordinance  \n",
       "4714  A substitute ordinance relating to the prohibi...  Ordinance  \n",
       "4715  Substitute ordinance relating to the change in...  Ordinance  "
      ]
     },
     "execution_count": 132,
     "metadata": {},
     "output_type": "execute_result"
    }
   ],
   "source": [
    "new_df.tail()"
   ]
  },
  {
   "cell_type": "code",
   "execution_count": 161,
   "metadata": {},
   "outputs": [
    {
     "data": {
      "text/plain": [
       "file_created    object\n",
       "file_number     object\n",
       "final_action    object\n",
       "link            object\n",
       "status          object\n",
       "title           object\n",
       "type            object\n",
       "dtype: object"
      ]
     },
     "execution_count": 161,
     "metadata": {},
     "output_type": "execute_result"
    }
   ],
   "source": [
    "new_df.dtypes"
   ]
  },
  {
   "cell_type": "code",
   "execution_count": 133,
   "metadata": {},
   "outputs": [],
   "source": [
    "new_df.to_pickle('legistar_meta_info.pkl')"
   ]
  },
  {
   "cell_type": "code",
   "execution_count": 77,
   "metadata": {},
   "outputs": [],
   "source": [
    "#meta_legis_dict[2] #worked"
   ]
  },
  {
   "cell_type": "code",
   "execution_count": 153,
   "metadata": {},
   "outputs": [],
   "source": [
    "# def objectIdentificationUsingWaits(self, maxTimeOut, locatorProperties, locatorType = \"xpath\"):\n",
    "#         element = None\n",
    "#         try:\n",
    "#             WebDriverWait(self.driver, maxTimeOut, ignored_exceptions=[StaleElementReferenceException]).until(\n",
    "#                 EC.presence_of_element_located((self.getLocatorType(locatorType), locatorProperties)))\n",
    "#             element = self.driver.find_element(locatorType, locatorProperties)\n",
    "#         except:\n",
    "#             print(\"Exception occurred during object identification.\")\n",
    "#         return element"
   ]
  },
  {
   "cell_type": "code",
   "execution_count": 152,
   "metadata": {},
   "outputs": [],
   "source": [
    "# from selenium.common.exceptions import StaleElementReferenceException\n",
    "\n",
    "# test = visit_site(legistar)\n",
    "# #time.sleep(5)\n",
    "# select_all_years(test)\n",
    "# time.sleep(5)\n",
    "# select_ordinance(test)\n",
    "# start_search(test)\n",
    "# time.sleep(3)\n",
    "# get_max_results(test)\n",
    "# time.sleep(.5)\n",
    "\n",
    "\n",
    "\n",
    "# col_names = [0,'type','status','created_date','final_action','title']\n",
    "# leg_dict = {}\n",
    "# r_table_body = get_records_table(test)\n",
    "# print(r_table_body.text)\n",
    "# print(r_table_body.find_elements_by_class_name('rgRow'))\n",
    "# #print(r_table_body.find_elements_by_class_name('rgRow')[0].text)\n",
    "# for row in r_table_body.find_elements_by_class_name('rgRow'):\n",
    "#     print(row.get_attribute('id'),'id')\n",
    "#     file_num = row.find_element_by_css_selector('td').find_element_by_css_selector('a').text\n",
    "#     leg_dict[file_num] = {}\n",
    "#     try:\n",
    "#         link = row.find_element_by_id('ctl00_ContentPlaceHolder1_gridMain_ctl00_ctl04_hypFile').get_attribute('href')\n",
    "#     except:\n",
    "#         link='no link'\n",
    "#     leg_dict[file_num]['file_link'] = link\n",
    "#     print(file_num,'file_num and ', link,' link')\n",
    "#     for d,col in zip(row.find_elements_by_css_selector('td'),col_names):\n",
    "#                 if not col:\n",
    "#                     continue\n",
    "                \n",
    "#                 leg_dict[file_num][col] = d.text"
   ]
  },
  {
   "cell_type": "code",
   "execution_count": 8,
   "metadata": {},
   "outputs": [],
   "source": [
    "#conn = sqlite3.connect('vr_ords.db')\n",
    "engine = create_engine('sqlite:///vr_ords.db', echo=False)\n",
    "connection = engine.connect()\n",
    "#df.to_sql('users', con=engine)"
   ]
  },
  {
   "cell_type": "code",
   "execution_count": 9,
   "metadata": {},
   "outputs": [],
   "source": [
    "#new_df.to_sql('meta_data', con=engine)"
   ]
  },
  {
   "cell_type": "code",
   "execution_count": 10,
   "metadata": {},
   "outputs": [],
   "source": [
    "meta_df = pd.read_sql('SELECT * FROM meta_data;', connection, index_col='index')"
   ]
  },
  {
   "cell_type": "code",
   "execution_count": 18,
   "metadata": {},
   "outputs": [
    {
     "data": {
      "text/html": [
       "<div>\n",
       "<style scoped>\n",
       "    .dataframe tbody tr th:only-of-type {\n",
       "        vertical-align: middle;\n",
       "    }\n",
       "\n",
       "    .dataframe tbody tr th {\n",
       "        vertical-align: top;\n",
       "    }\n",
       "\n",
       "    .dataframe thead th {\n",
       "        text-align: right;\n",
       "    }\n",
       "</style>\n",
       "<table border=\"1\" class=\"dataframe\">\n",
       "  <thead>\n",
       "    <tr style=\"text-align: right;\">\n",
       "      <th></th>\n",
       "      <th>file_created</th>\n",
       "      <th>file_number</th>\n",
       "      <th>final_action</th>\n",
       "      <th>link</th>\n",
       "      <th>status</th>\n",
       "      <th>title</th>\n",
       "      <th>type</th>\n",
       "    </tr>\n",
       "    <tr>\n",
       "      <th>index</th>\n",
       "      <th></th>\n",
       "      <th></th>\n",
       "      <th></th>\n",
       "      <th></th>\n",
       "      <th></th>\n",
       "      <th></th>\n",
       "      <th></th>\n",
       "    </tr>\n",
       "  </thead>\n",
       "  <tbody>\n",
       "    <tr>\n",
       "      <th>0</th>\n",
       "      <td>2/5/2019</td>\n",
       "      <td>181642</td>\n",
       "      <td></td>\n",
       "      <td>https://milwaukee.legistar.com/LegislationDeta...</td>\n",
       "      <td>In Committee</td>\n",
       "      <td>An ordinance relating to the city’s towing dro...</td>\n",
       "      <td>Ordinance</td>\n",
       "    </tr>\n",
       "    <tr>\n",
       "      <th>1</th>\n",
       "      <td>2/5/2019</td>\n",
       "      <td>181644</td>\n",
       "      <td></td>\n",
       "      <td>https://milwaukee.legistar.com/LegislationDeta...</td>\n",
       "      <td>In Committee</td>\n",
       "      <td>An ordinance relating to domestic partners of ...</td>\n",
       "      <td>Ordinance</td>\n",
       "    </tr>\n",
       "    <tr>\n",
       "      <th>2</th>\n",
       "      <td>2/5/2019</td>\n",
       "      <td>181619</td>\n",
       "      <td></td>\n",
       "      <td>https://milwaukee.legistar.com/LegislationDeta...</td>\n",
       "      <td>In Committee</td>\n",
       "      <td>An ordinance to further amend the 2019 offices...</td>\n",
       "      <td>Ordinance</td>\n",
       "    </tr>\n",
       "    <tr>\n",
       "      <th>3</th>\n",
       "      <td>2/5/2019</td>\n",
       "      <td>181598</td>\n",
       "      <td></td>\n",
       "      <td>https://milwaukee.legistar.com/LegislationDeta...</td>\n",
       "      <td>In Committee</td>\n",
       "      <td>An ordinance relating to the change in zoning ...</td>\n",
       "      <td>Ordinance</td>\n",
       "    </tr>\n",
       "    <tr>\n",
       "      <th>4</th>\n",
       "      <td>2/5/2019</td>\n",
       "      <td>181583</td>\n",
       "      <td></td>\n",
       "      <td>https://milwaukee.legistar.com/LegislationDeta...</td>\n",
       "      <td>In Committee</td>\n",
       "      <td>A substitute ordinance relating to traffic con...</td>\n",
       "      <td>Ordinance</td>\n",
       "    </tr>\n",
       "  </tbody>\n",
       "</table>\n",
       "</div>"
      ],
      "text/plain": [
       "      file_created file_number final_action  \\\n",
       "index                                         \n",
       "0         2/5/2019      181642                \n",
       "1         2/5/2019      181644                \n",
       "2         2/5/2019      181619                \n",
       "3         2/5/2019      181598                \n",
       "4         2/5/2019      181583                \n",
       "\n",
       "                                                    link        status  \\\n",
       "index                                                                    \n",
       "0      https://milwaukee.legistar.com/LegislationDeta...  In Committee   \n",
       "1      https://milwaukee.legistar.com/LegislationDeta...  In Committee   \n",
       "2      https://milwaukee.legistar.com/LegislationDeta...  In Committee   \n",
       "3      https://milwaukee.legistar.com/LegislationDeta...  In Committee   \n",
       "4      https://milwaukee.legistar.com/LegislationDeta...  In Committee   \n",
       "\n",
       "                                                   title       type  \n",
       "index                                                                \n",
       "0      An ordinance relating to the city’s towing dro...  Ordinance  \n",
       "1      An ordinance relating to domestic partners of ...  Ordinance  \n",
       "2      An ordinance to further amend the 2019 offices...  Ordinance  \n",
       "3      An ordinance relating to the change in zoning ...  Ordinance  \n",
       "4      A substitute ordinance relating to traffic con...  Ordinance  "
      ]
     },
     "execution_count": 18,
     "metadata": {},
     "output_type": "execute_result"
    }
   ],
   "source": [
    "meta_df.head()"
   ]
  },
  {
   "cell_type": "code",
   "execution_count": 3,
   "metadata": {},
   "outputs": [],
   "source": [
    "def check_status(rowDriver):\n",
    "    status = rowDriver.find_element_by_id('ctl00_ContentPlaceHolder1_lblStatus2').text\n",
    "    if len(status):\n",
    "            return status\n",
    "    else: return False\n",
    "\n",
    "def check_passed(rowDriver):\n",
    "    '''\n",
    "    if ordinance was passed will say Passed\n",
    "    '''\n",
    "    if check_status(rowDriver) == 'Passed':\n",
    "        return 'Passed'\n",
    "    elif check_status(rowDriver) == 'Placed On File':\n",
    "        return 'Placed On File - Denied'\n",
    "    else:\n",
    "        return False"
   ]
  },
  {
   "cell_type": "code",
   "execution_count": 4,
   "metadata": {},
   "outputs": [],
   "source": [
    "def get_legis_table(mkeDriver):\n",
    "    records_table = mkeDriver.find_element_by_id(\"ctl00_ContentPlaceHolder1_gridLegislation\")\n",
    "    r_table_body = records_table.find_elements_by_class_name(\"rgRow\")\n",
    "    r_table_body2 = records_table.find_elements_by_class_name(\"rgAltRow\")\n",
    "    return r_table_body, r_table_body2"
   ]
  },
  {
   "cell_type": "code",
   "execution_count": 103,
   "metadata": {},
   "outputs": [],
   "source": [
    "from datetime import datetime\n",
    "\n",
    "date_pattern = '%m/%d/%Y'\n",
    "\n",
    "def get_date_time(row):\n",
    "    #print(row)\n",
    "    return datetime.strptime(row, '%m/%d/%Y')\n",
    "\n",
    "def get_year(row):\n",
    "    \n",
    "    return row.year\n",
    "#pd.datetime(meta_df[meta_df.file_created!=' '].file_created[1])"
   ]
  },
  {
   "cell_type": "code",
   "execution_count": 100,
   "metadata": {},
   "outputs": [],
   "source": [
    "meta_df_post_nov2018 = meta_df[meta_df.file_created!= ' ']"
   ]
  },
  {
   "cell_type": "code",
   "execution_count": 110,
   "metadata": {},
   "outputs": [
    {
     "data": {
      "text/html": [
       "<div>\n",
       "<style scoped>\n",
       "    .dataframe tbody tr th:only-of-type {\n",
       "        vertical-align: middle;\n",
       "    }\n",
       "\n",
       "    .dataframe tbody tr th {\n",
       "        vertical-align: top;\n",
       "    }\n",
       "\n",
       "    .dataframe thead th {\n",
       "        text-align: right;\n",
       "    }\n",
       "</style>\n",
       "<table border=\"1\" class=\"dataframe\">\n",
       "  <thead>\n",
       "    <tr style=\"text-align: right;\">\n",
       "      <th></th>\n",
       "      <th>file_created</th>\n",
       "      <th>file_number</th>\n",
       "      <th>final_action</th>\n",
       "      <th>link</th>\n",
       "      <th>status</th>\n",
       "      <th>title</th>\n",
       "      <th>type</th>\n",
       "      <th>date_time</th>\n",
       "      <th>year</th>\n",
       "    </tr>\n",
       "    <tr>\n",
       "      <th>index</th>\n",
       "      <th></th>\n",
       "      <th></th>\n",
       "      <th></th>\n",
       "      <th></th>\n",
       "      <th></th>\n",
       "      <th></th>\n",
       "      <th></th>\n",
       "      <th></th>\n",
       "      <th></th>\n",
       "    </tr>\n",
       "  </thead>\n",
       "  <tbody>\n",
       "  </tbody>\n",
       "</table>\n",
       "</div>"
      ],
      "text/plain": [
       "Empty DataFrame\n",
       "Columns: [file_created, file_number, final_action, link, status, title, type, date_time, year]\n",
       "Index: []"
      ]
     },
     "execution_count": 110,
     "metadata": {},
     "output_type": "execute_result"
    }
   ],
   "source": [
    "meta_df_post_nov2018[pd.isna(meta_df.link)]"
   ]
  },
  {
   "cell_type": "code",
   "execution_count": 101,
   "metadata": {},
   "outputs": [],
   "source": [
    "meta_df_post_nov2018['date_time'] = meta_df_post_nov2018.file_created.apply(get_date_time)\n",
    "meta_df_post_nov2018['year'] = meta_df_post_nov2018.date_time.apply(get_year)"
   ]
  },
  {
   "cell_type": "code",
   "execution_count": 105,
   "metadata": {},
   "outputs": [],
   "source": [
    "meta_df_post_nov2018 = meta_df_post_nov2018[meta_df_post_nov2018.date_time > get_date_time('11/08/2018')]"
   ]
  },
  {
   "cell_type": "code",
   "execution_count": 113,
   "metadata": {},
   "outputs": [
    {
     "data": {
      "text/plain": [
       "(40, 9)"
      ]
     },
     "execution_count": 113,
     "metadata": {},
     "output_type": "execute_result"
    }
   ],
   "source": [
    "meta_df_post_nov2018.shape"
   ]
  },
  {
   "cell_type": "code",
   "execution_count": 19,
   "metadata": {},
   "outputs": [
    {
     "data": {
      "text/plain": [
       "'https://milwaukee.legistar.com/LegislationDetail.aspx?ID=3857556&GUID=A3259554-D312-43C3-B3D9-9697F6D567B1&Options=ID|Text|&Search='"
      ]
     },
     "execution_count": 19,
     "metadata": {},
     "output_type": "execute_result"
    }
   ],
   "source": [
    "meta_df.link[0]\n"
   ]
  },
  {
   "cell_type": "code",
   "execution_count": null,
   "metadata": {},
   "outputs": [],
   "source": [
    "def get_passed"
   ]
  },
  {
   "cell_type": "code",
   "execution_count": null,
   "metadata": {},
   "outputs": [],
   "source": [
    "testDrive = visit_site(meta_df.link.iloc[-2])"
   ]
  },
  {
   "cell_type": "code",
   "execution_count": 43,
   "metadata": {},
   "outputs": [
    {
     "data": {
      "text/plain": [
       "'https://milwaukee.legistar.com/LegislationDetail.aspx?ID=145734&GUID=1097BAA1-1B3D-443C-9ABA-2DA545261E52&Options=ID|Text|&Search='"
      ]
     },
     "execution_count": 43,
     "metadata": {},
     "output_type": "execute_result"
    }
   ],
   "source": [
    "meta_df.link.iloc[-2]"
   ]
  },
  {
   "cell_type": "code",
   "execution_count": 12,
   "metadata": {},
   "outputs": [],
   "source": [
    "import requests as req\n",
    "import bs4\n",
    "\n",
    "records = req.get(meta_df.link.iloc[-2])\n",
    "\n",
    "soup = bs4.BeautifulSoup(records.content,'html.parser')"
   ]
  },
  {
   "cell_type": "code",
   "execution_count": 23,
   "metadata": {},
   "outputs": [
    {
     "name": "stdout",
     "output_type": "stream",
     "text": [
      "https://milwaukee.legistar.com/LegislationDetail.aspx?ID=145734&GUID=1097BAA1-1B3D-443C-9ABA-2DA545261E52&Options=ID|Text|&Search=\n"
     ]
    }
   ],
   "source": [
    "print(meta_df.link.iloc[-2])"
   ]
  },
  {
   "cell_type": "code",
   "execution_count": 43,
   "metadata": {},
   "outputs": [],
   "source": [
    "# def get_legis_table(mkeDriver):\n",
    "#     records_table = mkeDriver.find_element_by_id(\"ctl00_ContentPlaceHolder1_gridLegislation\")\n",
    "#     r_table_body = records_table.find_elements_by_class_name(\"rgRow\")\n",
    "#     r_table_body2 = records_table.find_elements_by_class_name(\"rgAltRow\")\n",
    "#     return r_table_body, r_table_body2\n",
    "\n",
    "def get_legis_table_soup(link):\n",
    "    records = req.get(link)\n",
    "    soup = bs4.BeautifulSoup(records.content,'html.parser')\n",
    "    r_table_body = soup.find(id = 'ctl00_ContentPlaceHolder1_gridLegislation').find_all('tr','rgRow')\n",
    "    r_table_body2 = soup.find(id = 'ctl00_ContentPlaceHolder1_gridLegislation').find_all('tr','rgAltRow')\n",
    "    return r_table_body, r_table_body2"
   ]
  },
  {
   "cell_type": "code",
   "execution_count": null,
   "metadata": {},
   "outputs": [],
   "source": []
  },
  {
   "cell_type": "code",
   "execution_count": 46,
   "metadata": {},
   "outputs": [
    {
     "name": "stdout",
     "output_type": "stream",
     "text": [
      "7/12/2002\n",
      "4\n",
      "\n",
      "CITY CLERK\n",
      "\n",
      "PUBLISHED\n",
      " \n",
      " \n",
      "https://milwaukee.legistar.com/HistoryDetail.aspx?ID=718012&GUID=86E98FD2-FAE6-4E31-A26D-F9AC5FAE9CD5\n",
      "\n",
      "Meeting details\n",
      "\n",
      "\n",
      "\n",
      "Not available\n",
      "\n",
      "\n",
      "6/25/2002\n",
      "4\n",
      "\n",
      "COMMON COUNCIL\n",
      "\n",
      "PASSED\n",
      "Pass\n",
      "16:1\n",
      "https://milwaukee.legistar.com/HistoryDetail.aspx?ID=717850&GUID=7DF3C679-287B-4523-BC2F-5067EB235FA5\n",
      "\n",
      "Meeting details\n",
      "\n",
      "\n",
      "\n",
      "Not available\n",
      "\n",
      "\n",
      "6/13/2002\n",
      "4\n",
      "\n",
      "CITY CLERK\n",
      "\n",
      "DRAFT SUBMITTED\n",
      " \n",
      " \n",
      "https://milwaukee.legistar.com/HistoryDetail.aspx?ID=717604&GUID=1E13F7CB-3F66-4F98-8353-BE10AF9D4A29\n",
      "\n",
      "Meeting details\n",
      "\n",
      "\n",
      "\n",
      "Not available\n",
      "\n",
      "\n",
      "6/12/2002\n",
      "3\n",
      "\n",
      "PUBLIC WORKS COMMITTEE\n",
      "\n",
      "RECOMMENDED FOR  PASSAGE AND ASSIGNED\n",
      "Pass\n",
      "4:1\n",
      "https://milwaukee.legistar.com/HistoryDetail.aspx?ID=717217&GUID=4C676835-BB9E-4AAD-AD9F-647C5C75B69A\n",
      "\n",
      "Meeting details\n",
      "\n",
      "\n",
      "\n",
      "Not available\n",
      "\n",
      "\n",
      "6/6/2002\n",
      "2\n",
      "\n",
      "PUBLIC WORKS COMMITTEE\n",
      "\n",
      "HEARING NOTICES SENT\n",
      " \n",
      " \n",
      "https://milwaukee.legistar.com/HistoryDetail.aspx?ID=717361&GUID=EAB0D336-13B9-4223-B161-1C33F0580695\n",
      "\n",
      "Meeting details\n",
      "\n",
      "\n",
      "\n",
      "Not available\n",
      "\n",
      "\n",
      "6/6/2002\n",
      "2\n",
      "\n",
      "PUBLIC WORKS COMMITTEE\n",
      "\n",
      "HEARING NOTICES SENT\n",
      " \n",
      " \n",
      "https://milwaukee.legistar.com/HistoryDetail.aspx?ID=717300&GUID=B63EED55-A45B-4E79-81EA-143AB714E73B\n",
      "\n",
      "Meeting details\n",
      "\n",
      "\n",
      "\n",
      "Not available\n",
      "\n",
      "\n",
      "6/6/2002\n",
      "2\n",
      "\n",
      "STEERING & RULES COMMITTEE\n",
      "\n",
      "HEARING NOTICES SENT\n",
      " \n",
      " \n",
      "https://milwaukee.legistar.com/HistoryDetail.aspx?ID=717220&GUID=62FDB71D-60A1-4189-9C51-59AA0E69DC6A\n",
      "\n",
      "Meeting details\n",
      "\n",
      "\n",
      "\n",
      "Not available\n",
      "\n",
      "\n",
      "5/24/2002\n",
      " \n",
      "\n",
      "PUBLIC WORKS COMMITTEE\n",
      "\n",
      "REFERRED  TOMinutes note: \r\n",
      "NOTE:  \r\n",
      "\r\n",
      "Please respond with legal opinion including how this legislation complies with State/Federal legislation.\n",
      " \n",
      " \n",
      "https://milwaukee.legistar.com/HistoryDetail.aspx?ID=716793&GUID=3D9E0ADE-6FA5-4A34-B645-336CA4C9E911\n",
      "\n",
      "Meeting details\n",
      "\n",
      "\n",
      "\n",
      "Not available\n",
      "\n",
      "\n",
      "5/17/2002\n",
      "2\n",
      "\n",
      "CITY CLERK\n",
      "\n",
      "DRAFT SUBMITTED\n",
      " \n",
      " \n",
      "https://milwaukee.legistar.com/HistoryDetail.aspx?ID=716410&GUID=28A8FA44-B7F6-4E19-817E-9786DFB55188\n",
      "\n",
      "Meeting details\n",
      "\n",
      "\n",
      "\n",
      "Not available\n",
      "\n",
      "\n",
      "6/4/1998\n",
      "0\n",
      "\n",
      "STEERING & RULES COMMITTEE\n",
      "\n",
      "REFERRED  TO\n",
      " \n",
      " \n",
      "https://milwaukee.legistar.com/HistoryDetail.aspx?ID=658403&GUID=645BCEB1-2131-4459-9E82-1332680E3DD4\n",
      "\n",
      "Meeting details\n",
      "\n",
      "\n",
      "\n",
      "Not available\n",
      "\n",
      "\n",
      "7/19/1991\n",
      "1\n",
      "\n",
      "PUBLIC WORKS COMMITTEE\n",
      "\n",
      "HEARING NOTICES SENT\n",
      " \n",
      " \n",
      "https://milwaukee.legistar.com/HistoryDetail.aspx?ID=658399&GUID=95C7A3D1-E95D-4132-B6D9-F3C5677BBCA3\n",
      "\n",
      "Meeting details\n",
      "\n",
      "\n",
      "\n",
      "Not available\n",
      "\n",
      "\n",
      "1/10/1991\n",
      "1\n",
      "\n",
      "PUBLIC SAFETY COMMITTEE\n",
      "\n",
      " \n",
      " \n",
      " \n",
      "\n",
      "Meeting details\n",
      "\n",
      "\n",
      "\n",
      "Not available\n",
      "\n",
      "\n"
     ]
    }
   ],
   "source": [
    "#WORKED\n",
    "\n",
    "table_body_test, table_body_test2 = get_legis_table_soup(meta_df.link.iloc[-2])\n",
    "pre_url = 'https://milwaukee.legistar.com/'\n",
    "for  ct,j in enumerate(table_body_test):\n",
    "    for ct2,i in enumerate(j.find_all('td')):\n",
    "    #print(i.select('a'))\n",
    "        if ct2 != 6:\n",
    "            print(i.get_text())\n",
    "        else:\n",
    "            #need ot use regex to get url extension and attach it to standard legistar pre-url\n",
    "            if i.a.has_attr('onclick'):\n",
    "                print(pre_url + re.search(r\"\\'{1}.*\\',\",i.a['onclick'])[0].strip('\\'|,'))"
   ]
  },
  {
   "cell_type": "code",
   "execution_count": 33,
   "metadata": {},
   "outputs": [
    {
     "data": {
      "text/plain": [
       "['\\n',\n",
       " <td class=\"rgSorted\"><font face=\"Tahoma\" size=\"2\">7/12/2002</font></td>,\n",
       " <td><font face=\"Tahoma\" size=\"2\">4</font></td>,\n",
       " <td nowrap=\"nowrap\"><font face=\"Tahoma\" size=\"2\">\n",
       " <a id=\"ctl00_ContentPlaceHolder1_gridLegislation_ctl00_ctl04_hypBody\"><font color=\"Black\" face=\"Tahoma\" size=\"2\">CITY CLERK</font></a>\n",
       " </font></td>,\n",
       " <td><font face=\"Tahoma\" size=\"2\">PUBLISHED</font></td>,\n",
       " <td><font face=\"Tahoma\" size=\"2\"> </font></td>,\n",
       " <td><font face=\"Tahoma\" size=\"2\"> </font></td>,\n",
       " <td><font face=\"Tahoma\" size=\"2\">\n",
       " <a href=\"#\" id=\"ctl00_ContentPlaceHolder1_gridLegislation_ctl00_ctl04_hypDetails\" onclick=\"radopen('HistoryDetail.aspx?ID=718012&amp;GUID=86E98FD2-FAE6-4E31-A26D-F9AC5FAE9CD5', 'HistoryDetail');return false;\"><font color=\"Blue\" face=\"Tahoma\" size=\"2\">Action details</font></a>\n",
       " </font></td>,\n",
       " <td><font face=\"Tahoma\" size=\"2\">\n",
       " <a class=\"meeting_NoMeeting\" id=\"ctl00_ContentPlaceHolder1_gridLegislation_ctl00_ctl04_hypMeetingDetail\"><font color=\"Gray\" face=\"Tahoma\" size=\"2\">Meeting details</font></a>\n",
       " </font></td>,\n",
       " <td><font face=\"Tahoma\" size=\"2\">\n",
       " <span style=\"white-space: nowrap;\">\n",
       " <a class=\"historyVideoIndexNotAvailableLink\" id=\"ctl00_ContentPlaceHolder1_gridLegislation_ctl00_ctl04_hypVideo\"><font color=\"Gray\" face=\"Tahoma\" size=\"2\">Not available</font></a>\n",
       " </span>\n",
       " </font></td>,\n",
       " '\\n']"
      ]
     },
     "execution_count": 33,
     "metadata": {},
     "output_type": "execute_result"
    }
   ],
   "source": [
    "list(table_body_test)"
   ]
  },
  {
   "cell_type": "code",
   "execution_count": 48,
   "metadata": {},
   "outputs": [],
   "source": [
    "def get_passed_dets_link(x):\n",
    "    '''\n",
    "    The line item with the vote is PASSED\n",
    "    '''\n",
    "    pre_url = 'https://milwaukee.legistar.com/'\n",
    "    link = str(x)\n",
    "    #leg_drive = visit_site(link, headless=True,phantom=False)\n",
    "    #     if not leg_drive:\n",
    "    #         return None\n",
    "    if not len(link):\n",
    "        return None\n",
    "    test_dict = {}\n",
    "    r_table_body, r_table_body2 = get_legis_table_soup(link)\n",
    "    for ct, row in enumerate(r_table_body+r_table_body2):\n",
    "        test_dict[ct] = {}\n",
    "        row_elements = row.find_all('td')\n",
    "        for k,v in zip(['Date','Ver','Action_By','Action','Result','Tally','A_Details','M_Details','Video'], row_elements):\n",
    "            if k == 'A_Details':\n",
    "                if v.a.has_attr('onclick'):\n",
    "                    test_dict[ct][k] = pre_url + re.search(r\"\\'{1}.*\\',\",v.a['onclick'])[0].strip('\\'|,')\n",
    "            else:\n",
    "                test_dict[ct][k] = v.get_text()\n",
    "    test_dict = {k:row for k, row in test_dict.items() if row['Action'] == 'PASSED'}\n",
    "    if len(test_dict):\n",
    "        return test_dict\n",
    "    else:\n",
    "        return None\n",
    "        \n",
    "        "
   ]
  },
  {
   "cell_type": "code",
   "execution_count": 60,
   "metadata": {},
   "outputs": [
    {
     "data": {
      "text/plain": [
       "{1: {'Date': '6/25/2002',\n",
       "  'Ver': '4',\n",
       "  'Action_By': 'COMMON COUNCIL',\n",
       "  'Action': 'PASSED',\n",
       "  'Result': 'Pass',\n",
       "  'Tally': '16:1',\n",
       "  'A_Details': 'https://milwaukee.legistar.com/LegislationDetail.aspx?ID=145734&GUID=1097BAA1-1B3D-443C-9ABA-2DA545261E52&Options=ID|Text|&Search=#',\n",
       "  'M_Details': 'Meeting details',\n",
       "  'Video': 'Not available'}}"
      ]
     },
     "execution_count": 60,
     "metadata": {},
     "output_type": "execute_result"
    }
   ],
   "source": [
    "test_dict"
   ]
  },
  {
   "cell_type": "code",
   "execution_count": 50,
   "metadata": {},
   "outputs": [
    {
     "name": "stdout",
     "output_type": "stream",
     "text": [
      "685.8667962551117\n"
     ]
    }
   ],
   "source": [
    "import warnings\n",
    "warnings.filterwarnings('ignore')\n",
    "from multiprocessing import Pool\n",
    "links_dict = {}\n",
    "start = time.time()\n",
    "with Pool(processes=10) as pool:\n",
    "#         for i, row in enumerate(meta_df.iterrows()):\n",
    "#             #print(row)\n",
    "#             rowDriver = visit_site(row[1]['link'], True)\n",
    "#             cv = check_passed(rowDriver)\n",
    "#             if cv == 'Passed':\n",
    "#                 rv = get_passed_dets_link(rowDriver)\n",
    "#                 if rv:\n",
    "#                     links_dict[i] = rv\n",
    "    out = pool.map(get_passed_dets_link, meta_df.link)\n",
    "    end=time.time()\n",
    "\n",
    "print(end-start)"
   ]
  },
  {
   "cell_type": "code",
   "execution_count": 55,
   "metadata": {},
   "outputs": [],
   "source": [
    "good_rows=[v  for row in out if row !=None for k,v in row.items()]"
   ]
  },
  {
   "cell_type": "code",
   "execution_count": 58,
   "metadata": {},
   "outputs": [],
   "source": [
    "passed_df = pd.DataFrame(good_rows)\n",
    "\n",
    "passed_df.to_sql('passed_legislation', con=engine)"
   ]
  },
  {
   "cell_type": "code",
   "execution_count": null,
   "metadata": {},
   "outputs": [],
   "source": []
  }
 ],
 "metadata": {
  "kernelspec": {
   "display_name": "Python 3",
   "language": "python",
   "name": "python3"
  },
  "language_info": {
   "codemirror_mode": {
    "name": "ipython",
    "version": 3
   },
   "file_extension": ".py",
   "mimetype": "text/x-python",
   "name": "python",
   "nbconvert_exporter": "python",
   "pygments_lexer": "ipython3",
   "version": "3.7.1"
  }
 },
 "nbformat": 4,
 "nbformat_minor": 2
}
