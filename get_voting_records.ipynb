{
 "cells": [
  {
   "cell_type": "code",
   "execution_count": 156,
   "metadata": {},
   "outputs": [],
   "source": [
    "from selenium import webdriver\n",
    "from selenium.webdriver.firefox.firefox_binary import FirefoxBinary\n",
    "from selenium.webdriver.common.action_chains import ActionChains\n",
    "import csv\n",
    "import scrapy\n",
    "import time\n",
    "import re\n",
    "import pandas as pd"
   ]
  },
  {
   "cell_type": "code",
   "execution_count": 373,
   "metadata": {},
   "outputs": [],
   "source": [
    "#you will need to put your own path to the firefox binary here\n",
    "#binary = FirefoxBinary()\n",
    "legistar = 'https://milwaukee.legistar.com/Legislation.aspx'\n",
    "\n",
    "def visit_site(legistar):\n",
    "    mkeDriver = webdriver.Firefox(executable_path='/Users/ayaspan/Documents/Personal/voting_records_mke/geckodriver')\n",
    "    mkeDriver.get(legistar)\n",
    "    #return mkeDriver\n"
   ]
  },
  {
   "cell_type": "code",
   "execution_count": 375,
   "metadata": {},
   "outputs": [],
   "source": [
    "mkeDriver2 = visit_site(legistar)"
   ]
  },
  {
   "cell_type": "code",
   "execution_count": 385,
   "metadata": {},
   "outputs": [
    {
     "name": "stdout",
     "output_type": "stream",
     "text": [
      "[]\n"
     ]
    }
   ],
   "source": [
    "test = get_next_page(mkeDriver2)"
   ]
  },
  {
   "cell_type": "code",
   "execution_count": null,
   "metadata": {},
   "outputs": [],
   "source": []
  },
  {
   "cell_type": "code",
   "execution_count": 481,
   "metadata": {},
   "outputs": [],
   "source": [
    "def select_all_years(mkeDriver):\n",
    "    years = mkeDriver.find_element_by_id(\"ctl00_ContentPlaceHolder1_lstYears_Input\")\n",
    "    years.send_keys('All Years')\n",
    "    years.submit()\n",
    "    #return years"
   ]
  },
  {
   "cell_type": "code",
   "execution_count": 581,
   "metadata": {},
   "outputs": [],
   "source": [
    "#makes it so that you have max results\n",
    "\n",
    "def get_max_results(mkeDriver):\n",
    "    step1 = mkeDriver.find_elements_by_id(\"ctl00_ContentPlaceHolder1_menuMain\")[0]\n",
    "    action = ActionChains(mkeDriver)\n",
    "    action.click(step1.find_elements_by_class_name(\"rmItem \")[1])\n",
    "    #action.click(step1.find_elements_by_class_name(\"rmItem \")[1].find_element_by_css_selector(\"a\"))\n",
    "    action.perform()\n",
    "    time.sleep(1)\n",
    "    step2 = step1.find_elements_by_class_name(\"rmItem \")[1].parent\n",
    "    #print(step2.text)\n",
    "    action = ActionChains(mkeDriver)\n",
    "    # action_test2 = ActionChains(testDriver)\n",
    "    action.move_to_element(step2.find_element_by_class_name(\"rmSlide\").find_element_by_class_name(\"rmLast\"))\n",
    "    action.click(step2.find_element_by_class_name(\"rmSlide\").find_element_by_class_name(\"rmLast\"))\n",
    "    action.perform()\n",
    "    #return mkeDriver"
   ]
  },
  {
   "cell_type": "code",
   "execution_count": 332,
   "metadata": {},
   "outputs": [],
   "source": [
    "# re.search(r'(?<=of\\s)[0-9]+',mkeDriver.find_elements_by_class_name(\"rgPagerCell\")[0]\\\n",
    "#             .find_element_by_class_name(\"rgInfoPart\").text)[0]"
   ]
  },
  {
   "cell_type": "code",
   "execution_count": 205,
   "metadata": {},
   "outputs": [],
   "source": [
    "#need to consider the recursion involved in looping through pages OR use above"
   ]
  },
  {
   "cell_type": "code",
   "execution_count": 589,
   "metadata": {},
   "outputs": [],
   "source": [
    "#locats page link \n",
    "def get_next_page(mkeDriver):\n",
    "    pgs_drop = mkeDriver.find_elements_by_class_name(\"rgPagerCell\")\n",
    "    #print(pgs_drop)\n",
    "    try:\n",
    "        return pgs_drop[0].find_element_by_xpath(\"//a[@class='rgCurrentPage']/following-sibling::a\")\n",
    "    except:\n",
    "        return None\n",
    "\n",
    "def go_to_next_page(next_page):\n",
    "    next_page.click()"
   ]
  },
  {
   "cell_type": "code",
   "execution_count": 510,
   "metadata": {},
   "outputs": [],
   "source": [
    "def select_ordinance(mkeDriver):\n",
    "    type_ordinance = mkeDriver.find_element_by_id(\"ctl00_ContentPlaceHolder1_lstTypeBasic_Arrow\").click()\n",
    "    legislation_type = mkeDriver.find_element_by_id(\"ctl00_ContentPlaceHolder1_lstTypeBasic_DropDown\")\\\n",
    "                .find_elements_by_class_name(\"rcbItem\")\n",
    "    print(legislation_type[14].text)\n",
    "    actions = ActionChains(mkeDriver)\n",
    "    actions.move_to_element(legislation_type[14])\n",
    "    actions.click(legislation_type[14])\n",
    "    actions.perform()\n",
    "    #choose_ordinance.perform()#.double_click()\n",
    "#type_legislation.s\n",
    "#type_legislation.submit()"
   ]
  },
  {
   "cell_type": "code",
   "execution_count": 444,
   "metadata": {},
   "outputs": [],
   "source": [
    "# legislation_type = mkeDriver.find_element_by_id(\"ctl00_ContentPlaceHolder1_lstTypeBasic_DropDown\")\\\n",
    "#                 .find_elements_by_class_name(\"rcbItem\")\n",
    "# hover_ord = ActionChains(mkeDriver).move_to_element(legislation_type[14])\n",
    "# hover_ord.perform().send_keys(\"Ordinance\").double_click()"
   ]
  },
  {
   "cell_type": "code",
   "execution_count": 483,
   "metadata": {},
   "outputs": [],
   "source": [
    "def start_search(mkeDriver):\n",
    "    s_button = mkeDriver.find_element_by_id(\"visibleSearchButton\")\n",
    "    s_button.click()\n",
    "    #return mkeDriver"
   ]
  },
  {
   "cell_type": "code",
   "execution_count": 335,
   "metadata": {},
   "outputs": [],
   "source": [
    "def get_records_table(mkeDriver):\n",
    "    records_table = mkeDriver.find_element_by_id(\"ctl00_ContentPlaceHolder1_gridMain_ctl00\")\n",
    "    r_table_body = records_table.find_element_by_css_selector(\"tbody\")\n",
    "    return r_table_body"
   ]
  },
  {
   "cell_type": "code",
   "execution_count": 212,
   "metadata": {},
   "outputs": [],
   "source": [
    "# for i in records_table.find_elements_by_css_selector('a'):\n",
    "#     if 'https' in i.get_attribute('href'):\n",
    "#         print(i.get_attribute('href'))"
   ]
  },
  {
   "cell_type": "code",
   "execution_count": 336,
   "metadata": {},
   "outputs": [],
   "source": [
    "#r_table_body = records_table.find_element_by_css_selector(\"tbody\")"
   ]
  },
  {
   "cell_type": "code",
   "execution_count": null,
   "metadata": {},
   "outputs": [],
   "source": [
    "#can change # of records per page :)"
   ]
  },
  {
   "cell_type": "code",
   "execution_count": 590,
   "metadata": {},
   "outputs": [],
   "source": [
    "#if status passed\n",
    "import time\n",
    "\n",
    "def get_meta_data(legistar):\n",
    "    count=0\n",
    "    leg_dict = {}\n",
    "    #CALL OTHER REQUISITE FUNCTIONS FIRST\n",
    "    mkeDriver = visit_site(legistar)\n",
    "    #time.sleep(5)\n",
    "    select_all_years(mkeDriver)\n",
    "    time.sleep(5)\n",
    "    select_ordinance(mkeDriver)\n",
    "    start_search(mkeDriver)\n",
    "    time.sleep(5)\n",
    "    get_max_results(mkeDriver)\n",
    "\n",
    "    \n",
    "    while True:\n",
    "        time.sleep(3)\n",
    "        r_table_body = get_records_table(mkeDriver)\n",
    "        for row in r_table_body.find_elements_by_css_selector('tr'):\n",
    "            file_num = row.find_element_by_css_selector('a').text\n",
    "            leg_dict[file_num] = {}\n",
    "            leg_dict[file_num]['file_link'] = row.find_element_by_css_selector('a').get_attribute('href')\n",
    "            for d in row.find_elements_by_css_selector('td'):\n",
    "                #if leg_dict[file_num]['status'] in ('Passed',\"Mayor's Office\",'Dead','Placed On File'): use this later for going through links\n",
    "                leg_dict[file_num]['type'] = d.text\n",
    "                leg_dict[file_num]['status'] = d.text\n",
    "                leg_dict[file_num]['created_date'] = d.text\n",
    "                leg_dict[file_num]['final_action'] = d.text\n",
    "                leg_dict[file_num]['title'] = d.text\n",
    "        cur_page = mkeDriver.find_elements_by_class_name(\"rgPagerCell\")[0]\\\n",
    "                .find_element_by_class_name(\"rgCurrentPage\")\n",
    "\n",
    "        \n",
    "        count+=1\n",
    "        \n",
    "        next_page = get_next_page(mkeDriver)\n",
    "        \n",
    "        if not next_page:\n",
    "            return \n",
    "        else:\n",
    "            next_page.click()\n",
    "    "
   ]
  },
  {
   "cell_type": "code",
   "execution_count": 591,
   "metadata": {},
   "outputs": [],
   "source": [
    "#leg_dict"
   ]
  },
  {
   "cell_type": "code",
   "execution_count": null,
   "metadata": {},
   "outputs": [
    {
     "name": "stdout",
     "output_type": "stream",
     "text": [
      "Ordinance\n"
     ]
    }
   ],
   "source": [
    "meta_legis_dict = get_meta_data(legistar)"
   ]
  },
  {
   "cell_type": "code",
   "execution_count": null,
   "metadata": {},
   "outputs": [],
   "source": []
  }
 ],
 "metadata": {
  "kernelspec": {
   "display_name": "Python 3",
   "language": "python",
   "name": "python3"
  },
  "language_info": {
   "codemirror_mode": {
    "name": "ipython",
    "version": 3
   },
   "file_extension": ".py",
   "mimetype": "text/x-python",
   "name": "python",
   "nbconvert_exporter": "python",
   "pygments_lexer": "ipython3",
   "version": "3.7.0"
  }
 },
 "nbformat": 4,
 "nbformat_minor": 2
}
